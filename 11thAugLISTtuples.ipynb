{
 "cells": [
  {
   "cell_type": "code",
   "execution_count": 2,
   "source": [
    "# Lists are used to store multiple items in a single variable  \r\n",
    "# It is one of the 4 built-in data types \r\n",
    "# 4 built in data types are LISTS, TUPLES, SET, DICTIONARY\r\n",
    "M= [\"Mercedes\", \"Mazda\"] \r\n",
    "A = [\"cheron\",\"veron\"]\r\n",
    "\r\n",
    "print(M,A)"
   ],
   "outputs": [
    {
     "output_type": "stream",
     "name": "stdout",
     "text": [
      "['Mercedes', 'Mazda'] ['cheron', 'veron']\n"
     ]
    }
   ],
   "metadata": {}
  },
  {
   "cell_type": "code",
   "execution_count": 12,
   "source": [
    "# ordered : defined way of arrangement and that order will not change \r\n",
    "# Changeable : we can change, add and remove items in a list after it has been created \r\n",
    "\r\n",
    "fruits = [\"apple\", \"banana\", \"cherries\", \"dates\", \"mango\", \"apple\"]\r\n",
    "veg = [\"carrot\", \"radish\", \"cauliflower\", \"broccoli\"]\r\n",
    "\r\n",
    "fruits\r\n",
    "print(fruits)\r\n",
    "print(len(fruits))\r\n",
    "print(veg)\r\n",
    "\r\n",
    "list1 = [\"sai\", 25, \"male\", True]\r\n",
    "print(list1)\r\n",
    "print(type(list1))"
   ],
   "outputs": [
    {
     "output_type": "stream",
     "name": "stdout",
     "text": [
      "['apple', 'banana', 'cherries', 'dates', 'mango', 'apple']\n",
      "6\n",
      "['carrot', 'radish', 'cauliflower', 'broccoli']\n",
      "['sai', 25, 'male', True]\n",
      "<class 'list'>\n"
     ]
    }
   ],
   "metadata": {}
  }
 ],
 "metadata": {
  "orig_nbformat": 4,
  "language_info": {
   "name": "python",
   "version": "3.8.8",
   "mimetype": "text/x-python",
   "codemirror_mode": {
    "name": "ipython",
    "version": 3
   },
   "pygments_lexer": "ipython3",
   "nbconvert_exporter": "python",
   "file_extension": ".py"
  },
  "kernelspec": {
   "name": "python3",
   "display_name": "Python 3.8.8 64-bit ('base': conda)"
  },
  "interpreter": {
   "hash": "35578e20fa6b6d28d2a4b1041a3cbbe9ce5d6b87d7a94be3e6657d6c7e60ca36"
  }
 },
 "nbformat": 4,
 "nbformat_minor": 2
}