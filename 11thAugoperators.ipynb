{
 "cells": [
  {
   "cell_type": "code",
   "execution_count": 1,
   "source": [
    "\r\n",
    "# Arithematic operators\r\n",
    "\r\n",
    "# >>> 2+3\r\n",
    "# 5\r\n",
    "# >>> 3-2\r\n",
    "# 1\r\n",
    "# >>> 3*2\r\n",
    "# 6\r\n",
    "# >>> 4/2\r\n",
    "# 2.0\r\n",
    "# >>> 25%2\r\n",
    "# 1\r\n",
    "# >>> 2**2\r\n",
    "# 4\r\n",
    "# >>> 2**3\r\n",
    "# 8\r\n",
    "# >>> 20//2\r\n",
    "# 10\r\n",
    "# >>>"
   ],
   "outputs": [
    {
     "output_type": "execute_result",
     "data": {
      "text/plain": [
       "10"
      ]
     },
     "metadata": {},
     "execution_count": 1
    }
   ],
   "metadata": {}
  },
  {
   "cell_type": "code",
   "execution_count": 12,
   "source": [
    "# Assignment operators\r\n",
    "\r\n",
    "\r\n",
    "x=3\r\n",
    "x\r\n",
    "\r\n",
    "# x = x+3  # is same as x+=3\r\n",
    "# x\r\n",
    "\r\n",
    "x+=3\r\n",
    "x\r\n",
    "\r\n",
    "# x-=3  # is same as x = x - 3\r\n",
    "# x\r\n",
    "\r\n",
    "x = x - 3\r\n",
    "x\r\n",
    "\r\n",
    "x*=3 # is same as x = x + 3\r\n",
    "x\r\n",
    "\r\n",
    "\r\n",
    "x/=3 # x = x / 3\r\n",
    "x\r\n",
    "\r\n",
    "# % =\r\n",
    "# //=\r\n",
    "# **=\r\n",
    "# &=\r\n",
    "# |=\r\n",
    "# ^=\r\n",
    "# >>=\r\n",
    "# <<=\r\n",
    "\r\n"
   ],
   "outputs": [
    {
     "output_type": "execute_result",
     "data": {
      "text/plain": [
       "3.0"
      ]
     },
     "metadata": {},
     "execution_count": 12
    }
   ],
   "metadata": {}
  },
  {
   "cell_type": "code",
   "execution_count": 18,
   "source": [
    "# Comparison operators\r\n",
    "\r\n",
    "a = 3\r\n",
    "b = 5\r\n",
    "\r\n",
    "print(a == b)\r\n",
    "print(a != b)\r\n",
    "print(a > b)\r\n",
    "print(a >= b)\r\n",
    "print(a < b)\r\n",
    "print(a <= b)"
   ],
   "outputs": [
    {
     "output_type": "stream",
     "name": "stdout",
     "text": [
      "False\n",
      "True\n",
      "False\n",
      "False\n",
      "True\n",
      "True\n"
     ]
    }
   ],
   "metadata": {}
  },
  {
   "cell_type": "code",
   "execution_count": 33,
   "source": [
    "# Identity Operators\r\n",
    "\r\n",
    "M = [\"Mercedes\", \"Mazda\"] \r\n",
    "A = [\"cheron\",\"veron\"]\r\n",
    "\r\n",
    "M = M1\r\n",
    "\r\n",
    "print(M1)\r\n",
    "\r\n",
    "print(M is M1) # True because M1 is same as M\r\n",
    "\r\n",
    "print(M is A) # False because both are different\r\n",
    "\r\n",
    "\r\n",
    "\r\n",
    "print(M == A)\r\n",
    "\r\n",
    "print(M == M1)"
   ],
   "outputs": [
    {
     "output_type": "stream",
     "name": "stdout",
     "text": [
      "['Mercedes', 'Mazda']\n",
      "True\n",
      "False\n",
      "False\n",
      "True\n"
     ]
    }
   ],
   "metadata": {}
  },
  {
   "cell_type": "code",
   "execution_count": 37,
   "source": [
    "# Membership operators (in , not in)\r\n",
    "print(\"Mazda\" in M )\r\n",
    "print(\"mazda\" in M)\r\n",
    "\r\n",
    "print(\"Gwagon\" not in M)"
   ],
   "outputs": [
    {
     "output_type": "stream",
     "name": "stdout",
     "text": [
      "True\n",
      "False\n",
      "True\n"
     ]
    }
   ],
   "metadata": {}
  },
  {
   "cell_type": "code",
   "execution_count": 26,
   "source": [
    "# Logical operators (and or not)\r\n",
    "x = 3\r\n",
    "print(x > 1 and x < 6) # returns True  because  3 is greter than 1 and 3 is less than 6 \r\n",
    "print(x > 1 or x < 2) # returns True because one of the conditions are true \r\n",
    "print(not(x > 1 and x < 6)) # reverse the result \r\n",
    "print(not(x < 1 and x > 6)) # reverse the result"
   ],
   "outputs": [
    {
     "output_type": "stream",
     "name": "stdout",
     "text": [
      "True\n",
      "True\n",
      "False\n",
      "True\n"
     ]
    }
   ],
   "metadata": {}
  },
  {
   "cell_type": "code",
   "execution_count": 39,
   "source": [
    "# bitwise \r\n",
    "# & AND \r\n",
    "print(x > 1 & x < 6)\r\n",
    "\r\n",
    "# | OR\r\n",
    "print(x > 1 | x < 2)\r\n",
    "\r\n",
    "# ~ << >>\r\n",
    "\r\n",
    "\r\n"
   ],
   "outputs": [
    {
     "output_type": "stream",
     "name": "stdout",
     "text": [
      "True\n",
      "False\n"
     ]
    }
   ],
   "metadata": {}
  }
 ],
 "metadata": {
  "orig_nbformat": 4,
  "language_info": {
   "name": "python",
   "version": "3.8.8",
   "mimetype": "text/x-python",
   "codemirror_mode": {
    "name": "ipython",
    "version": 3
   },
   "pygments_lexer": "ipython3",
   "nbconvert_exporter": "python",
   "file_extension": ".py"
  },
  "kernelspec": {
   "name": "python3",
   "display_name": "Python 3.8.8 64-bit ('base': conda)"
  },
  "interpreter": {
   "hash": "35578e20fa6b6d28d2a4b1041a3cbbe9ce5d6b87d7a94be3e6657d6c7e60ca36"
  }
 },
 "nbformat": 4,
 "nbformat_minor": 2
}