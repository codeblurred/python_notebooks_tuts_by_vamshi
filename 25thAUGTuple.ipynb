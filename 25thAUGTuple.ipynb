{
 "cells": [
  {
   "cell_type": "code",
   "execution_count": 1,
   "id": "d1cbb156",
   "metadata": {},
   "outputs": [
    {
     "name": "stdout",
     "output_type": "stream",
     "text": [
      "('camaro', 'porsche', 'rolls-royce')\n"
     ]
    }
   ],
   "source": [
    "# tuple : built in data types , ()\n",
    "\n",
    "cars = (\"camaro\", \"porsche\", \"rolls-royce\")\n",
    "print(cars)"
   ]
  },
  {
   "cell_type": "code",
   "execution_count": 3,
   "id": "0690f446",
   "metadata": {},
   "outputs": [
    {
     "name": "stdout",
     "output_type": "stream",
     "text": [
      "('camaro', 'porsche', 'rolls-royce', 'camaro')\n",
      "4\n"
     ]
    }
   ],
   "source": [
    "cars1 = (\"camaro\", \"porsche\", \"rolls-royce\", \"camaro\")\n",
    "print(cars1)\n",
    "print(len(cars1))"
   ]
  },
  {
   "cell_type": "code",
   "execution_count": 4,
   "id": "c1b0c636",
   "metadata": {},
   "outputs": [
    {
     "name": "stdout",
     "output_type": "stream",
     "text": [
      "<class 'tuple'>\n",
      "<class 'str'>\n"
     ]
    }
   ],
   "source": [
    "bike = ('rx100',)\n",
    "print(type(bike))\n",
    "\n",
    "bike1 = ('rx100')\n",
    "print(type(bike1))"
   ]
  },
  {
   "cell_type": "code",
   "execution_count": 6,
   "id": "18844743",
   "metadata": {},
   "outputs": [
    {
     "name": "stdout",
     "output_type": "stream",
     "text": [
      "('25', 'Hyd', True, 'male')\n",
      "<class 'tuple'>\n"
     ]
    }
   ],
   "source": [
    "sai = (\"25\", \"Hyd\", True, \"male\")\n",
    "\n",
    "print(sai)\n",
    "print(type(sai))"
   ]
  },
  {
   "cell_type": "code",
   "execution_count": 10,
   "id": "1dfd69e2",
   "metadata": {},
   "outputs": [
    {
     "name": "stdout",
     "output_type": "stream",
     "text": [
      "('camaro', 'porsche', 'rolls-royce')\n",
      "<class 'tuple'>\n",
      "porsche\n",
      "rolls-royce\n"
     ]
    }
   ],
   "source": [
    "cars = tuple((\"camaro\", \"porsche\", \"rolls-royce\"))\n",
    "print(cars)\n",
    "print(type(cars))\n",
    "\n",
    "print(cars[1])\n",
    "print(cars[-1])"
   ]
  },
  {
   "cell_type": "code",
   "execution_count": 11,
   "id": "f99f4425",
   "metadata": {},
   "outputs": [
    {
     "name": "stdout",
     "output_type": "stream",
     "text": [
      "('porsche', 'rolls-royce')\n"
     ]
    }
   ],
   "source": [
    "cars1 = (\"camaro\", \"porsche\", \"rolls-royce\", \"camaro\")\n",
    "print(cars1[1:3])"
   ]
  },
  {
   "cell_type": "code",
   "execution_count": 14,
   "id": "75eb6ff0",
   "metadata": {},
   "outputs": [
    {
     "name": "stdout",
     "output_type": "stream",
     "text": [
      "('camaro', 'porsche', 'rolls-royce')\n"
     ]
    }
   ],
   "source": [
    "print(cars1[:3])"
   ]
  },
  {
   "cell_type": "code",
   "execution_count": 15,
   "id": "7c0f485f",
   "metadata": {},
   "outputs": [
    {
     "name": "stdout",
     "output_type": "stream",
     "text": [
      "yes , present\n"
     ]
    }
   ],
   "source": [
    "cars1 = (\"camaro\", \"porsche\", \"rolls-royce\", \"camaro\")\n",
    "\n",
    "\n",
    "\n",
    "if \"camaro\" in cars: \n",
    "    print(\"yes , present\")\n",
    "    "
   ]
  },
  {
   "cell_type": "code",
   "execution_count": 16,
   "id": "f996f1a0",
   "metadata": {},
   "outputs": [],
   "source": [
    "if \"nano\" in cars: \n",
    "    print(\"yes , present\")"
   ]
  },
  {
   "cell_type": "code",
   "execution_count": 25,
   "id": "bc1a467c",
   "metadata": {},
   "outputs": [
    {
     "name": "stdout",
     "output_type": "stream",
     "text": [
      "('camaro', 'porsche', 'rolls-royce', 'camaro')\n"
     ]
    },
    {
     "ename": "AttributeError",
     "evalue": "'tuple' object has no attribute 'append'",
     "output_type": "error",
     "traceback": [
      "\u001b[1;31m---------------------------------------------------------------------------\u001b[0m",
      "\u001b[1;31mAttributeError\u001b[0m                            Traceback (most recent call last)",
      "\u001b[1;32m<ipython-input-25-817a97510750>\u001b[0m in \u001b[0;36m<module>\u001b[1;34m\u001b[0m\n\u001b[0;32m      7\u001b[0m \u001b[1;33m\u001b[0m\u001b[0m\n\u001b[0;32m      8\u001b[0m \u001b[1;33m\u001b[0m\u001b[0m\n\u001b[1;32m----> 9\u001b[1;33m \u001b[0mcars1\u001b[0m\u001b[1;33m.\u001b[0m\u001b[0mappend\u001b[0m\u001b[1;33m(\u001b[0m\u001b[1;34m\"rolls-royce\"\u001b[0m\u001b[1;33m)\u001b[0m\u001b[1;33m\u001b[0m\u001b[1;33m\u001b[0m\u001b[0m\n\u001b[0m\u001b[0;32m     10\u001b[0m \u001b[1;33m\u001b[0m\u001b[0m\n\u001b[0;32m     11\u001b[0m \u001b[0mprint\u001b[0m\u001b[1;33m(\u001b[0m\u001b[0my\u001b[0m\u001b[1;33m)\u001b[0m\u001b[1;33m\u001b[0m\u001b[1;33m\u001b[0m\u001b[0m\n",
      "\u001b[1;31mAttributeError\u001b[0m: 'tuple' object has no attribute 'append'"
     ]
    }
   ],
   "source": [
    "cars1 = (\"camaro\", \"porsche\", \"rolls-royce\", \"camaro\")\n",
    "\n",
    "# cars1[1] = \"audi\"  #---> will throw an error as TypeError: 'tuple' object does not support item assignment\n",
    "\n",
    "print(cars1)\n",
    "\n",
    "\n",
    "\n",
    "# cars1.append(\"rolls-royce\")   # AttributeError: 'tuple' object has no attribute 'append'\n",
    "\n",
    "print(y)"
   ]
  },
  {
   "cell_type": "code",
   "execution_count": 17,
   "id": "1a4901a6",
   "metadata": {},
   "outputs": [
    {
     "name": "stdout",
     "output_type": "stream",
     "text": [
      "['camaro', 'porsche', 'rolls-royce', 'camaro']\n",
      "<class 'list'>\n"
     ]
    }
   ],
   "source": [
    "y = list(cars1)\n",
    "\n",
    "print(y)\n",
    "print(type(y))\n",
    "\n"
   ]
  },
  {
   "cell_type": "code",
   "execution_count": 19,
   "id": "ec00ce5a",
   "metadata": {},
   "outputs": [
    {
     "name": "stdout",
     "output_type": "stream",
     "text": [
      "['camaro', 'porsche', 'dodge', 'camaro']\n"
     ]
    }
   ],
   "source": [
    "y[2] = \"dodge\"\n",
    "\n",
    "print(y)\n",
    "\n",
    "y.append(\"rolls-royce\")\n",
    "\n",
    "print(y)"
   ]
  },
  {
   "cell_type": "code",
   "execution_count": 26,
   "id": "03a22493",
   "metadata": {},
   "outputs": [
    {
     "name": "stdout",
     "output_type": "stream",
     "text": [
      "('camaro', 'porsche', 'rolls-royce', 'camaro', 'trackhawk')\n"
     ]
    }
   ],
   "source": [
    "cars1 = (\"camaro\", \"porsche\", \"rolls-royce\", \"camaro\")\n",
    "b = (\"trackhawk\",)\n",
    "\n",
    "cars1 += b\n",
    "\n",
    "print(cars1)\n",
    "\n"
   ]
  },
  {
   "cell_type": "code",
   "execution_count": 27,
   "id": "c3984f18",
   "metadata": {},
   "outputs": [
    {
     "ename": "AttributeError",
     "evalue": "'tuple' object has no attribute 'remove'",
     "output_type": "error",
     "traceback": [
      "\u001b[1;31m---------------------------------------------------------------------------\u001b[0m",
      "\u001b[1;31mAttributeError\u001b[0m                            Traceback (most recent call last)",
      "\u001b[1;32m<ipython-input-27-f8d501c2061f>\u001b[0m in \u001b[0;36m<module>\u001b[1;34m\u001b[0m\n\u001b[1;32m----> 1\u001b[1;33m \u001b[0mcars1\u001b[0m\u001b[1;33m.\u001b[0m\u001b[0mremove\u001b[0m\u001b[1;33m(\u001b[0m\u001b[1;34m\"camaro\"\u001b[0m\u001b[1;33m)\u001b[0m\u001b[1;33m\u001b[0m\u001b[1;33m\u001b[0m\u001b[0m\n\u001b[0m\u001b[0;32m      2\u001b[0m \u001b[0mprint\u001b[0m\u001b[1;33m(\u001b[0m\u001b[0mcars1\u001b[0m\u001b[1;33m)\u001b[0m\u001b[1;33m\u001b[0m\u001b[1;33m\u001b[0m\u001b[0m\n",
      "\u001b[1;31mAttributeError\u001b[0m: 'tuple' object has no attribute 'remove'"
     ]
    }
   ],
   "source": [
    "# cars1.remove(\"camaro\")\n",
    "# print(cars1)\n",
    "\n",
    "\n",
    "# AttributeError: 'tuple' object has no attribute 'remove'"
   ]
  },
  {
   "cell_type": "code",
   "execution_count": 30,
   "id": "0c795658",
   "metadata": {},
   "outputs": [
    {
     "name": "stdout",
     "output_type": "stream",
     "text": [
      "camaro\n",
      "porsche\n",
      "rolls-royce\n"
     ]
    }
   ],
   "source": [
    "cars1 = (\"camaro\", \"porsche\", \"rolls-royce\", \"camaro\")\n",
    "\n",
    "(yellow, red, black, white) = cars1\n",
    "\n",
    "\n",
    "print(yellow)\n",
    "print(red)\n",
    "print(black)"
   ]
  },
  {
   "cell_type": "code",
   "execution_count": 40,
   "id": "94b3cd3e",
   "metadata": {},
   "outputs": [
    {
     "name": "stdout",
     "output_type": "stream",
     "text": [
      "camaro\n",
      "['porsche', 'trackhawk', 'hoonigan', 'Ferari', 'rolls-royce']\n",
      "camaro\n"
     ]
    }
   ],
   "source": [
    "cars2 = (\"camaro\", \"porsche\", \"trackhawk\", \"hoonigan\", \"Ferari\", \"rolls-royce\", \"camaro\")\n",
    "\n",
    "(yellow,  *black, white) = cars2\n",
    "\n",
    "\n",
    "print(yellow)\n",
    "print(black)\n",
    "print(white)"
   ]
  },
  {
   "cell_type": "code",
   "execution_count": 37,
   "id": "25588f93",
   "metadata": {},
   "outputs": [
    {
     "name": "stdout",
     "output_type": "stream",
     "text": [
      "camaro\n",
      "porsche\n",
      "trackhawk\n",
      "hoonigan\n",
      "Ferari\n",
      "rolls-royce\n",
      "camaro\n"
     ]
    }
   ],
   "source": [
    "cars2 = (\"camaro\", \"porsche\", \"trackhawk\", \"hoonigan\", \"Ferari\", \"rolls-royce\", \"camaro\")\n",
    "\n",
    "for c in cars2:\n",
    "    print(c)\n",
    "    "
   ]
  },
  {
   "cell_type": "code",
   "execution_count": 39,
   "id": "ee0e218e",
   "metadata": {},
   "outputs": [
    {
     "name": "stdout",
     "output_type": "stream",
     "text": [
      "camaro\n",
      "porsche\n",
      "trackhawk\n",
      "hoonigan\n",
      "Ferari\n",
      "rolls-royce\n",
      "camaro\n"
     ]
    }
   ],
   "source": [
    "for i in range(len(cars2)):\n",
    "    print(cars2[i])"
   ]
  },
  {
   "cell_type": "code",
   "execution_count": 42,
   "id": "551a09ff",
   "metadata": {},
   "outputs": [
    {
     "name": "stdout",
     "output_type": "stream",
     "text": [
      "camaro\n",
      "porsche\n",
      "trackhawk\n",
      "hoonigan\n",
      "Ferari\n",
      "rolls-royce\n",
      "camaro\n"
     ]
    }
   ],
   "source": [
    "\n",
    "i = 0 \n",
    "while i < len(cars2):\n",
    "    print(cars2[i])\n",
    "    i = i + 1\n",
    "    \n",
    "    "
   ]
  },
  {
   "cell_type": "code",
   "execution_count": 44,
   "id": "ffe47d99",
   "metadata": {},
   "outputs": [
    {
     "name": "stdout",
     "output_type": "stream",
     "text": [
      "('s', 'a', 'i', 1, 2, 3)\n",
      "('s', 'a', 'i', 1, 2, 3, 's', 'a', 'i', 1, 2, 3)\n"
     ]
    }
   ],
   "source": [
    "t1 = (\"s\", \"a\", \"i\")\n",
    "t2 = (1, 2, 3)\n",
    "\n",
    "t3 = t1 + t2\n",
    "print(t3)\n",
    "\n",
    "t4 = t3 * 2\n",
    "\n",
    "print(t4)"
   ]
  },
  {
   "cell_type": "code",
   "execution_count": null,
   "id": "5fc4fd04",
   "metadata": {},
   "outputs": [],
   "source": []
  }
 ],
 "metadata": {
  "kernelspec": {
   "display_name": "Python 3",
   "language": "python",
   "name": "python3"
  },
  "language_info": {
   "codemirror_mode": {
    "name": "ipython",
    "version": 3
   },
   "file_extension": ".py",
   "mimetype": "text/x-python",
   "name": "python",
   "nbconvert_exporter": "python",
   "pygments_lexer": "ipython3",
   "version": "3.8.8"
  }
 },
 "nbformat": 4,
 "nbformat_minor": 5
}
