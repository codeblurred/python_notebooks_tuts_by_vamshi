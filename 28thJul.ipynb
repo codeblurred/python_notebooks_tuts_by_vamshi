{
 "cells": [
  {
   "cell_type": "code",
   "execution_count": 1,
   "id": "17385e8e",
   "metadata": {},
   "outputs": [
    {
     "name": "stdout",
     "output_type": "stream",
     "text": [
      "<class 'str'>\n"
     ]
    }
   ],
   "source": [
    "x = \"oneplus\"\n",
    "print(type(x))"
   ]
  },
  {
   "cell_type": "code",
   "execution_count": 2,
   "id": "9ac7e73f",
   "metadata": {},
   "outputs": [],
   "source": [
    "# built-in data types\n",
    "\n",
    "\n",
    "# text type : str\n",
    "# numeric : int, float, complex\n",
    "#sequence: list, tuple, range\n",
    "# map : dict\n",
    "# set : set , frozenset\n",
    "# boolean : bool \n",
    "#  binary : bytes, bytearray, memoryview \n",
    "\n",
    "# syntax : print(type(variable)) for ex : as shown above print(type(x))"
   ]
  },
  {
   "cell_type": "code",
   "execution_count": 5,
   "id": "375252ce",
   "metadata": {},
   "outputs": [
    {
     "name": "stdout",
     "output_type": "stream",
     "text": [
      "<class 'int'>\n",
      "<class 'float'>\n",
      "<class 'complex'>\n"
     ]
    }
   ],
   "source": [
    "# numeric\n",
    "\n",
    "a = 21\n",
    "print(type(a))\n",
    "\n",
    "b = 21.8\n",
    "print(type(b))\n",
    "\n",
    "c = 2j\n",
    "print(type(c))\n",
    "\n"
   ]
  },
  {
   "cell_type": "code",
   "execution_count": 8,
   "id": "0985a385",
   "metadata": {},
   "outputs": [
    {
     "name": "stdout",
     "output_type": "stream",
     "text": [
      "['fruits', 'veggies', 'groceries', 'stationery']\n",
      "<class 'list'>\n",
      "('fruits', 'veggies', 'groceries', 'stationery')\n",
      "<class 'tuple'>\n",
      "range(0, 5)\n",
      "<class 'range'>\n"
     ]
    }
   ],
   "source": [
    "#sequence: list, tuple, range\n",
    "\n",
    "a1 = ['fruits', 'veggies', 'groceries', 'stationery']\n",
    "print(a1)\n",
    "print(type(a1))\n",
    "\n",
    "b1 = ('fruits', 'veggies', 'groceries', 'stationery')\n",
    "print(b1)\n",
    "print(type(b1))\n",
    "\n",
    "c1 = range(5)\n",
    "print(c1)\n",
    "print(type(c1))"
   ]
  },
  {
   "cell_type": "code",
   "execution_count": 9,
   "id": "3f25decf",
   "metadata": {},
   "outputs": [
    {
     "name": "stdout",
     "output_type": "stream",
     "text": [
      "{'veggies': 'carrot', 'fruits': 'cherries', 'vehicle': 'mazda'}\n",
      "<class 'dict'>\n"
     ]
    }
   ],
   "source": [
    "# map : dict\n",
    "\n",
    "f = {\"veggies\":\"carrot\", \"fruits\":\"cherries\", \"vehicle\":\"mazda\"}\n",
    "\n",
    "print(f)\n",
    "print(type(f))"
   ]
  },
  {
   "cell_type": "code",
   "execution_count": 11,
   "id": "327a4094",
   "metadata": {},
   "outputs": [
    {
     "name": "stdout",
     "output_type": "stream",
     "text": [
      "{'mclaren', 'gwagon', 'ferrari', 'minijwc', 'pagani', 'audiq8', 'corvette'}\n",
      "<class 'set'>\n",
      "frozenset({'gwagon', 'mclaren', 'ferrari', 'minijwc', 'pagani', 'audiq8', 'corvette'})\n",
      "<class 'frozenset'>\n"
     ]
    }
   ],
   "source": [
    "# set : set , frozenset\n",
    "\n",
    "cars247 = {'mclaren', 'gwagon', 'audiq8', 'minijwc', 'ferrari', 'pagani', 'corvette'}\n",
    "print(cars)\n",
    "print(type(cars))\n",
    "\n",
    "\n",
    "cars20h = frozenset({'mclaren', 'gwagon', 'audiq8', 'minijwc', 'ferrari', 'pagani', 'corvette'})\n",
    "print(cars20h)\n",
    "print(type(cars20h))\n"
   ]
  },
  {
   "cell_type": "code",
   "execution_count": 12,
   "id": "06ad75d1",
   "metadata": {},
   "outputs": [
    {
     "name": "stdout",
     "output_type": "stream",
     "text": [
      "<class 'bool'>\n",
      "<class 'bool'>\n"
     ]
    }
   ],
   "source": [
    "# boolean : bool \n",
    "\n",
    "t = True\n",
    "f = False\n",
    "\n",
    "print(type(t))\n",
    "print(type(f))\n"
   ]
  },
  {
   "cell_type": "code",
   "execution_count": 16,
   "id": "f7245e79",
   "metadata": {},
   "outputs": [
    {
     "name": "stdout",
     "output_type": "stream",
     "text": [
      "<class 'bytes'>\n",
      "<class 'bytearray'>\n",
      "<memory at 0x000002A6961A6D00>\n",
      "<class 'memoryview'>\n"
     ]
    }
   ],
   "source": [
    "# binary: bytes, bytearray, memoryview\n",
    "\n",
    "s = b\"sai vijay\"\n",
    "print(type(s))\n",
    "\n",
    "t  = bytearray(200)\n",
    "print(type(t))\n",
    "\n",
    "u = memoryview(bytes(20))\n",
    "print(u)\n",
    "print(type(u))"
   ]
  },
  {
   "cell_type": "code",
   "execution_count": 21,
   "id": "08d68c74",
   "metadata": {},
   "outputs": [
    {
     "name": "stdout",
     "output_type": "stream",
     "text": [
      "23\n",
      "23\n",
      "<class 'int'>\n",
      "<class 'list'>\n",
      "('fruits', 'veggies', 'groceries', 'stationery')\n",
      "<class 'tuple'>\n"
     ]
    }
   ],
   "source": [
    "# How to set up the specific data type \n",
    "# also known as typecasting\n",
    "\n",
    "x1 = str(23)\n",
    "print(x1)\n",
    "\n",
    "x2 = int(x1)\n",
    "print(x2)\n",
    "print(type(x2))\n",
    "\n",
    "a1 = ['fruits', 'veggies', 'groceries', 'stationery']\n",
    "print(type(a1))\n",
    "n = tuple(a1)\n",
    "print(n)\n",
    "print(type(n))\n"
   ]
  },
  {
   "cell_type": "code",
   "execution_count": 26,
   "id": "5125ade7",
   "metadata": {},
   "outputs": [
    {
     "name": "stdout",
     "output_type": "stream",
     "text": [
      "<class 'str'> <class 'str'>\n",
      "MINI Cooper JCW is the top model in the Cooper lineup and the price of Cooper top model is ₹ 43.90 Lakh. It returns a certified mileage of 17 kmpl. This JCW variant comes with an engine putting out 228 bhp and 320 Nm @ 1450 rpm of max power and max torque respectively\n",
      "<class 'str'>\n"
     ]
    }
   ],
   "source": [
    "# strings\n",
    "\n",
    "a = \"skoda kushaq\"\n",
    "b = \"kia seltos\"\n",
    "\n",
    "print(type(a),type(b))\n",
    "\n",
    "# multiline strings\n",
    "mini = \"MINI Cooper JCW is the top model in the Cooper lineup and the price of Cooper top model is ₹ 43.90 Lakh. It returns a certified mileage of 17 kmpl. This JCW variant comes with an engine putting out 228 bhp and 320 Nm @ 1450 rpm of max power and max torque respectively\"\n",
    "print(mini)\n",
    "\n",
    "print(type(mini))\n",
    "\n"
   ]
  },
  {
   "cell_type": "code",
   "execution_count": 28,
   "id": "be3cd5f1",
   "metadata": {},
   "outputs": [
    {
     "name": "stdout",
     "output_type": "stream",
     "text": [
      "k\n",
      "a\n"
     ]
    }
   ],
   "source": [
    "# strings as arrays\n",
    "# first element starts from a[0]\n",
    "# space counts \n",
    "# no.s of element is n-1\n",
    "# 0 1 2 3 4 ..... n-1\n",
    "\n",
    "print(a[1])\n",
    "print(a[4])"
   ]
  },
  {
   "cell_type": "code",
   "execution_count": 29,
   "id": "a112ece0",
   "metadata": {},
   "outputs": [
    {
     "name": "stdout",
     "output_type": "stream",
     "text": [
      "C\n",
      "a\n",
      "r\n",
      "e\n",
      "r\n",
      "r\n",
      "a\n",
      " \n",
      "G\n",
      "T\n"
     ]
    }
   ],
   "source": [
    "# Loop through the string\n",
    "for x in \"Carerra GT\":\n",
    "    print(x)"
   ]
  },
  {
   "cell_type": "code",
   "execution_count": 30,
   "id": "40f33d2c",
   "metadata": {},
   "outputs": [
    {
     "name": "stdout",
     "output_type": "stream",
     "text": [
      "15\n"
     ]
    }
   ],
   "source": [
    "# len() would return the length of the string \n",
    "d = \"triumph daytona\"\n",
    "print(len(d))"
   ]
  },
  {
   "cell_type": "code",
   "execution_count": 32,
   "id": "3b827dc0",
   "metadata": {},
   "outputs": [
    {
     "name": "stdout",
     "output_type": "stream",
     "text": [
      "True\n",
      "False\n"
     ]
    }
   ],
   "source": [
    "# Check string\n",
    "sai = \"Sai is a good man with great ethics.\"\n",
    "print(\"ethics\" in sai)\n",
    "\n",
    "print(\"ias\" in sai)"
   ]
  },
  {
   "cell_type": "code",
   "execution_count": null,
   "id": "f2fab0b7",
   "metadata": {},
   "outputs": [],
   "source": []
  }
 ],
 "metadata": {
  "kernelspec": {
   "display_name": "Python 3",
   "language": "python",
   "name": "python3"
  },
  "language_info": {
   "codemirror_mode": {
    "name": "ipython",
    "version": 3
   },
   "file_extension": ".py",
   "mimetype": "text/x-python",
   "name": "python",
   "nbconvert_exporter": "python",
   "pygments_lexer": "ipython3",
   "version": "3.8.8"
  }
 },
 "nbformat": 4,
 "nbformat_minor": 5
}
