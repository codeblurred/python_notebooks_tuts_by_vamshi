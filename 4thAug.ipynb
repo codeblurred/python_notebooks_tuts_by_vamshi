{
 "cells": [
  {
   "cell_type": "code",
   "execution_count": 2,
   "source": [
    "# boolean\r\n",
    "print(10 > 9)\r\n",
    "print(10 == 9)\r\n",
    "print(10 < 9)"
   ],
   "outputs": [
    {
     "output_type": "stream",
     "name": "stdout",
     "text": [
      "True\n",
      "False\n",
      "False\n"
     ]
    }
   ],
   "metadata": {}
  },
  {
   "cell_type": "code",
   "execution_count": 3,
   "source": [
    "a = 200\r\n",
    "b = 33 \r\n",
    "\r\n",
    "if b > a: \r\n",
    "    print(\"b is greater than a\")\r\n",
    "else:\r\n",
    "    print(\"a is greater than b\")"
   ],
   "outputs": [
    {
     "output_type": "stream",
     "name": "stdout",
     "text": [
      "a is greater than b\n"
     ]
    }
   ],
   "metadata": {}
  },
  {
   "cell_type": "code",
   "execution_count": 13,
   "source": [
    "print(bool(\"sai\"))\r\n",
    "print(bool(24))\r\n",
    "print(bool([\"gwagon\", \"minicooper\", \"cadillac\"]))"
   ],
   "outputs": [
    {
     "output_type": "stream",
     "name": "stdout",
     "text": [
      "True\n",
      "True\n",
      "True\n"
     ]
    }
   ],
   "metadata": {}
  },
  {
   "cell_type": "code",
   "execution_count": 16,
   "source": [
    "x = \"sai\"\r\n",
    "y = 49\r\n",
    "z = 0\r\n",
    "k = \"\"\r\n",
    "m = []\r\n",
    "print(bool(x))\r\n",
    "print(bool(y))\r\n",
    "print(bool(z))\r\n",
    "print(bool(k))\r\n",
    "print(bool(m))\r\n"
   ],
   "outputs": [
    {
     "output_type": "stream",
     "name": "stdout",
     "text": [
      "True\n",
      "True\n",
      "False\n",
      "False\n",
      "False\n"
     ]
    }
   ],
   "metadata": {}
  }
 ],
 "metadata": {
  "orig_nbformat": 4,
  "language_info": {
   "name": "python",
   "version": "3.8.8",
   "mimetype": "text/x-python",
   "codemirror_mode": {
    "name": "ipython",
    "version": 3
   },
   "pygments_lexer": "ipython3",
   "nbconvert_exporter": "python",
   "file_extension": ".py"
  },
  "kernelspec": {
   "name": "python3",
   "display_name": "Python 3.8.8 64-bit ('base': conda)"
  },
  "interpreter": {
   "hash": "35578e20fa6b6d28d2a4b1041a3cbbe9ce5d6b87d7a94be3e6657d6c7e60ca36"
  }
 },
 "nbformat": 4,
 "nbformat_minor": 2
}