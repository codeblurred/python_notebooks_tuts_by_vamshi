{
 "cells": [
  {
   "cell_type": "code",
   "execution_count": 2,
   "source": [
    "c = \"CHEVROLET\"\r\n",
    "print(c)\r\n",
    "print(c[2:5])\r\n"
   ],
   "outputs": [
    {
     "output_type": "stream",
     "name": "stdout",
     "text": [
      "CHEVROLET\n",
      "EVR\n"
     ]
    }
   ],
   "metadata": {}
  },
  {
   "cell_type": "code",
   "execution_count": 3,
   "source": [
    "print(c[3:8])"
   ],
   "outputs": [
    {
     "output_type": "stream",
     "name": "stdout",
     "text": [
      "VROLE\n"
     ]
    }
   ],
   "metadata": {}
  },
  {
   "cell_type": "code",
   "execution_count": 4,
   "source": [
    "print(c[:5])"
   ],
   "outputs": [
    {
     "output_type": "stream",
     "name": "stdout",
     "text": [
      "CHEVR\n"
     ]
    }
   ],
   "metadata": {}
  },
  {
   "cell_type": "code",
   "execution_count": 5,
   "source": [
    "print(c[2:])"
   ],
   "outputs": [
    {
     "output_type": "stream",
     "name": "stdout",
     "text": [
      "EVROLET\n"
     ]
    }
   ],
   "metadata": {}
  },
  {
   "cell_type": "code",
   "execution_count": 6,
   "source": [
    "print(c[-5:-2])"
   ],
   "outputs": [
    {
     "output_type": "stream",
     "name": "stdout",
     "text": [
      "ROL\n"
     ]
    }
   ],
   "metadata": {}
  },
  {
   "cell_type": "code",
   "execution_count": 13,
   "source": [
    "print(c[2:-2])"
   ],
   "outputs": [
    {
     "output_type": "stream",
     "name": "stdout",
     "text": [
      "EVROL\n"
     ]
    }
   ],
   "metadata": {}
  },
  {
   "cell_type": "code",
   "execution_count": 14,
   "source": [
    "D = \"triumph daytona\"\r\n",
    "print(D.upper())"
   ],
   "outputs": [
    {
     "output_type": "stream",
     "name": "stdout",
     "text": [
      "TRIUMPH DAYTONA\n"
     ]
    }
   ],
   "metadata": {}
  },
  {
   "cell_type": "code",
   "execution_count": 17,
   "source": [
    "d = \" TRIUMPH DAYTONA \"\r\n",
    "print(d.lower())"
   ],
   "outputs": [
    {
     "output_type": "stream",
     "name": "stdout",
     "text": [
      " triumph daytona \n"
     ]
    }
   ],
   "metadata": {}
  },
  {
   "cell_type": "code",
   "execution_count": 16,
   "source": [
    "print(d.strip()) "
   ],
   "outputs": [
    {
     "output_type": "stream",
     "name": "stdout",
     "text": [
      "TRIUMPH DAYTONA\n"
     ]
    }
   ],
   "metadata": {}
  },
  {
   "cell_type": "code",
   "execution_count": 18,
   "source": [
    "print(d.replace(\" \",\"*\"))"
   ],
   "outputs": [
    {
     "output_type": "stream",
     "name": "stdout",
     "text": [
      "*TRIUMPH*DAYTONA*\n"
     ]
    }
   ],
   "metadata": {}
  },
  {
   "cell_type": "code",
   "execution_count": 19,
   "source": [
    "e = \"675\"\r\n",
    "\r\n",
    "f = d + e\r\n",
    "\r\n",
    "print(f)\r\n",
    "#concatenation"
   ],
   "outputs": [
    {
     "output_type": "stream",
     "name": "stdout",
     "text": [
      " TRIUMPH DAYTONA 675\n"
     ]
    }
   ],
   "metadata": {}
  },
  {
   "cell_type": "code",
   "execution_count": 20,
   "source": [
    "s = \"sai\"\r\n",
    "v = \"vijay\"\r\n",
    "t = s+\" \"+v\r\n",
    "print(t)"
   ],
   "outputs": [
    {
     "output_type": "stream",
     "name": "stdout",
     "text": [
      "sai vijay\n"
     ]
    }
   ],
   "metadata": {}
  },
  {
   "cell_type": "code",
   "execution_count": 26,
   "source": [
    "# Esc seq\r\n",
    "\r\n",
    "T = \"I love to ride a \\\"bicycle\\\"\"\r\n",
    "\r\n",
    "print(T)"
   ],
   "outputs": [
    {
     "output_type": "stream",
     "name": "stdout",
     "text": [
      "I love to ride a \"bicycle\"\n"
     ]
    }
   ],
   "metadata": {}
  },
  {
   "cell_type": "code",
   "execution_count": 27,
   "source": [
    "T1 = \"tiago is from \\\"tata\\\"\"\r\n",
    "T1"
   ],
   "outputs": [
    {
     "output_type": "execute_result",
     "data": {
      "text/plain": [
       "'tiago is from \"tata\"'"
      ]
     },
     "metadata": {},
     "execution_count": 27
    }
   ],
   "metadata": {}
  },
  {
   "cell_type": "code",
   "execution_count": 8,
   "source": [
    "print(\"hello world\")\r\n",
    "\r\n",
    "# output : \"hello world\"\r\n",
    "print(\"\\\"hello world\\\"\") # \\\" = \"\r\n",
    "print('\\'hello world\\'') # \\' = '\r\n",
    "\r\n",
    "\r\n",
    "print(\"line1\\nline2\") # \\n = newline\r\n",
    "print(\"errorr\\b\") # \\b = backspace\r\n",
    "print('hello\\tworld') # \\t = tab space\r\n"
   ],
   "outputs": [
    {
     "output_type": "stream",
     "name": "stdout",
     "text": [
      "hello world\n",
      "\"hello world\"\n",
      "'hello world'\n",
      "line1\n",
      "line2\n",
      "error\n",
      "hello\tworld\n"
     ]
    }
   ],
   "metadata": {}
  },
  {
   "cell_type": "code",
   "execution_count": null,
   "source": [
    "# output \r\n",
    "# this is double backslash \\\\\r\n",
    "# this is /\\/\\/\\/\\/\\ mountain \r\n",
    "# python is  awesome\r\n",
    "# \\' \\\" \\t \\\r\n",
    "# \\\\ \\\\n \\\\t \\\\ \\'"
   ],
   "outputs": [],
   "metadata": {}
  },
  {
   "cell_type": "code",
   "execution_count": 2,
   "source": [
    "# split\r\n",
    "\r\n",
    "a = \"today is a fresh day\"\r\n",
    "b = a.split(\" \")\r\n",
    "print(b)"
   ],
   "outputs": [
    {
     "output_type": "stream",
     "name": "stdout",
     "text": [
      "['today', 'is', 'a', 'fresh', 'day']\n"
     ]
    }
   ],
   "metadata": {}
  }
 ],
 "metadata": {
  "kernelspec": {
   "name": "python3",
   "display_name": "Python 3.8.8 64-bit ('base': conda)"
  },
  "language_info": {
   "codemirror_mode": {
    "name": "ipython",
    "version": 3
   },
   "file_extension": ".py",
   "mimetype": "text/x-python",
   "name": "python",
   "nbconvert_exporter": "python",
   "pygments_lexer": "ipython3",
   "version": "3.8.8"
  },
  "interpreter": {
   "hash": "35578e20fa6b6d28d2a4b1041a3cbbe9ce5d6b87d7a94be3e6657d6c7e60ca36"
  }
 },
 "nbformat": 4,
 "nbformat_minor": 5
}