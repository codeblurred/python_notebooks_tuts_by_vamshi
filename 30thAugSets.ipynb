{
 "cells": [
  {
   "cell_type": "code",
   "execution_count": 3,
   "id": "58eb6ab6",
   "metadata": {},
   "outputs": [
    {
     "name": "stdout",
     "output_type": "stream",
     "text": [
      "{'trucks', 'cars', 'bikes'}\n",
      "['cars', 'bikes', 'trucks']\n",
      "('cars', 'bikes', 'trucks')\n"
     ]
    }
   ],
   "source": [
    "# lists []\n",
    "# tuples ()\n",
    "# sets {}\n",
    "\n",
    "list1 = [\"cars\",\"bikes\",\"trucks\"]\n",
    "tup1 = (\"cars\",\"bikes\",\"trucks\") # tuple\n",
    "set1 = {\"cars\",\"bikes\",\"trucks\"}\n",
    "print(set1)\n",
    "# sets are unordered and unindexed , set items dont allow any duplicate items\n",
    "print(list1)\n",
    "print(tup1)"
   ]
  },
  {
   "cell_type": "code",
   "execution_count": 5,
   "id": "e0e5a1b8",
   "metadata": {},
   "outputs": [
    {
     "name": "stdout",
     "output_type": "stream",
     "text": [
      "{'trucks', 'cars', 'bikes'}\n",
      "3\n"
     ]
    }
   ],
   "source": [
    "set1 = {\"cars\",\"bikes\",\"trucks\",\"cars\"} # strings\n",
    "print(set1)\n",
    "print(len(set1))\n",
    "\n",
    "set2 = {1,2,3,4,5} #int \n",
    "\n",
    "set3 = {True, False, True} # boolean"
   ]
  },
  {
   "cell_type": "code",
   "execution_count": 7,
   "id": "48561a00",
   "metadata": {},
   "outputs": [
    {
     "name": "stdout",
     "output_type": "stream",
     "text": [
      "{True, 26, 'abs', 'male'}\n",
      "<class 'set'>\n"
     ]
    }
   ],
   "source": [
    "set4 = {\"abs\", 26, True, \"male\"}\n",
    "\n",
    "print(set4)\n",
    "\n",
    "print(type(set4))"
   ]
  },
  {
   "cell_type": "code",
   "execution_count": 8,
   "id": "3a5ed158",
   "metadata": {},
   "outputs": [
    {
     "name": "stdout",
     "output_type": "stream",
     "text": [
      "{'trucks', 'cars', 'bikes'}\n"
     ]
    }
   ],
   "source": [
    "# set() constructor\n",
    "set1 = set((\"cars\",\"bikes\",\"trucks\",\"cars\"))\n",
    "\n",
    "print(set1)\n",
    "\n"
   ]
  },
  {
   "cell_type": "code",
   "execution_count": 13,
   "id": "1441d54e",
   "metadata": {},
   "outputs": [
    {
     "name": "stdout",
     "output_type": "stream",
     "text": [
      "trucks\n",
      "cars\n",
      "bikes\n"
     ]
    }
   ],
   "source": [
    "set1 = {\"cars\",\"bikes\",\"trucks\",\"cars\"}\n",
    "\n",
    "for x in set1:\n",
    "    print(x)"
   ]
  },
  {
   "cell_type": "code",
   "execution_count": 17,
   "id": "e0bb5231",
   "metadata": {},
   "outputs": [
    {
     "name": "stdout",
     "output_type": "stream",
     "text": [
      "True\n",
      "False\n"
     ]
    }
   ],
   "source": [
    "set1 = {\"cars\",\"bikes\",\"trucks\",\"cars\"}\n",
    "\n",
    "print(\"cars\" in  set1)\n",
    "\n",
    "print(\"trains\" in set1)\n"
   ]
  },
  {
   "cell_type": "code",
   "execution_count": 18,
   "id": "2e8a6017",
   "metadata": {},
   "outputs": [
    {
     "name": "stdout",
     "output_type": "stream",
     "text": [
      "{'trucks', 'cars', 'bikes', 'trains'}\n"
     ]
    }
   ],
   "source": [
    "set1.add(\"trains\")\n",
    "print(set1)"
   ]
  },
  {
   "cell_type": "code",
   "execution_count": 24,
   "id": "3d8fdb5a",
   "metadata": {},
   "outputs": [
    {
     "name": "stdout",
     "output_type": "stream",
     "text": [
      "{'trucks', 'cars', 'bikes'}\n",
      "{1, 2, 3, 4, 5}\n",
      "{False, True}\n",
      "{1, 2, 3, 'bikes', 4, 5, 'trucks', 'cars'}\n",
      "{1, 2, 3, 'bikes', 4, 5, 'trucks', 'cars'}\n"
     ]
    }
   ],
   "source": [
    "set1 = {\"cars\",\"bikes\",\"trucks\",\"cars\"} # strings\n",
    "print(set1)\n",
    "\n",
    "set2 = {1,2,3,4,5} #int \n",
    "print(set2)\n",
    "\n",
    "\n",
    "set3 = {True, False, True} # boolean\n",
    "\n",
    "print(set3)\n",
    "\n",
    "\n",
    "set1.update(set2)\n",
    "print(set1)\n",
    "\n",
    "set7 = set1\n",
    "\n",
    "print(set7)\n",
    "\n",
    "\n"
   ]
  },
  {
   "cell_type": "code",
   "execution_count": 25,
   "id": "db407a2e",
   "metadata": {},
   "outputs": [
    {
     "name": "stdout",
     "output_type": "stream",
     "text": [
      "{'gwagon', 'tesla cybertruck', 'trackhawk', 'minicooper', 'fortuner', 'pajero'}\n"
     ]
    }
   ],
   "source": [
    "cars = [\"gwagon\", \"trackhawk\", \"minicooper\"]\n",
    "\n",
    "cars1 = {\"tesla cybertruck\", \"fortuner\", \"pajero\"}\n",
    "\n",
    "cars1.update(cars)\n",
    "print(cars1)\n"
   ]
  },
  {
   "cell_type": "code",
   "execution_count": 26,
   "id": "8c0d106e",
   "metadata": {},
   "outputs": [
    {
     "name": "stdout",
     "output_type": "stream",
     "text": [
      "{'gwagon', 'tesla cybertruck', 'trackhawk', 'fortuner', 'pajero'}\n"
     ]
    }
   ],
   "source": [
    "cars1.remove(\"minicooper\")\n",
    "print(cars1)"
   ]
  },
  {
   "cell_type": "code",
   "execution_count": 27,
   "id": "7342ff75",
   "metadata": {},
   "outputs": [
    {
     "name": "stdout",
     "output_type": "stream",
     "text": [
      "{'tesla cybertruck', 'trackhawk', 'fortuner', 'pajero'}\n"
     ]
    }
   ],
   "source": [
    "cars1.discard(\"gwagon\")\n",
    "print(cars1)"
   ]
  },
  {
   "cell_type": "code",
   "execution_count": 28,
   "id": "d6e0980f",
   "metadata": {},
   "outputs": [
    {
     "name": "stdout",
     "output_type": "stream",
     "text": [
      "tesla cybertruck\n",
      "{'trackhawk', 'fortuner', 'pajero'}\n"
     ]
    }
   ],
   "source": [
    "# x = cars1.pop()\n",
    "# print(x)\n",
    "\n",
    "print(cars1)"
   ]
  },
  {
   "cell_type": "code",
   "execution_count": 30,
   "id": "dd388157",
   "metadata": {},
   "outputs": [
    {
     "ename": "NameError",
     "evalue": "name 'cars1' is not defined",
     "output_type": "error",
     "traceback": [
      "\u001b[1;31m---------------------------------------------------------------------------\u001b[0m",
      "\u001b[1;31mNameError\u001b[0m                                 Traceback (most recent call last)",
      "\u001b[1;32m<ipython-input-30-74624355db05>\u001b[0m in \u001b[0;36m<module>\u001b[1;34m\u001b[0m\n\u001b[1;32m----> 1\u001b[1;33m \u001b[1;32mdel\u001b[0m \u001b[0mcars1\u001b[0m\u001b[1;33m\u001b[0m\u001b[1;33m\u001b[0m\u001b[0m\n\u001b[0m\u001b[0;32m      2\u001b[0m \u001b[1;31m# print(cars1)\u001b[0m\u001b[1;33m\u001b[0m\u001b[1;33m\u001b[0m\u001b[1;33m\u001b[0m\u001b[0m\n",
      "\u001b[1;31mNameError\u001b[0m: name 'cars1' is not defined"
     ]
    }
   ],
   "source": [
    "# del cars1 ## we just deleted \n",
    "# print(cars1)"
   ]
  },
  {
   "cell_type": "code",
   "execution_count": 31,
   "id": "5831e43d",
   "metadata": {},
   "outputs": [
    {
     "name": "stdout",
     "output_type": "stream",
     "text": [
      "{'gwagon', 'tesla cybertruck', 'trackhawk', 'minicooper', 'shelby', 'fortuner', 'pajero', 'corvette', 'dodge'}\n"
     ]
    }
   ],
   "source": [
    "cars1 = {'gwagon', 'tesla cybertruck', 'trackhawk', 'minicooper', 'fortuner', 'pajero'}\n",
    "\n",
    "cars2 = {\"corvette\", \"dodge\", \"shelby\"}\n",
    "\n",
    "\n",
    "cars3 = cars1.union(cars2)\n",
    "\n",
    "print(cars3)\n"
   ]
  },
  {
   "cell_type": "code",
   "execution_count": 32,
   "id": "20734215",
   "metadata": {},
   "outputs": [
    {
     "name": "stdout",
     "output_type": "stream",
     "text": [
      "{'apple'}\n"
     ]
    }
   ],
   "source": [
    "fruits = {\"apple\", \"banana\", \"cherry\"}\n",
    "\n",
    "IT = {\"apple\", \"microsoft\", \"google\"}\n",
    "\n",
    "fruits.intersection_update(IT)\n",
    "\n",
    "print(fruits)"
   ]
  },
  {
   "cell_type": "code",
   "execution_count": 33,
   "id": "cf033d2e",
   "metadata": {},
   "outputs": [
    {
     "name": "stdout",
     "output_type": "stream",
     "text": [
      "{'apple'}\n"
     ]
    }
   ],
   "source": [
    "fruits = {\"apple\", \"banana\", \"cherry\"}\n",
    "\n",
    "IT = {\"apple\", \"microsoft\", \"google\"}\n",
    "\n",
    "mix = fruits.intersection(IT)\n",
    "\n",
    "print(mix)\n"
   ]
  },
  {
   "cell_type": "code",
   "execution_count": 34,
   "id": "b3a5c881",
   "metadata": {},
   "outputs": [
    {
     "name": "stdout",
     "output_type": "stream",
     "text": [
      "{'cherry', 'banana', 'google', 'microsoft'}\n"
     ]
    }
   ],
   "source": [
    "#  keep all but not the duplicates\n",
    "fruits = {\"apple\", \"banana\", \"cherry\"}\n",
    "\n",
    "IT = {\"apple\", \"microsoft\", \"google\"}\n",
    "\n",
    "\n",
    "fruits.symmetric_difference_update(IT)\n",
    "\n",
    "print(fruits)\n"
   ]
  },
  {
   "cell_type": "code",
   "execution_count": 37,
   "id": "88f00a8f",
   "metadata": {},
   "outputs": [
    {
     "name": "stdout",
     "output_type": "stream",
     "text": [
      "{'cherry', 'banana', 'google', 'microsoft'}\n"
     ]
    }
   ],
   "source": [
    "fruits = {\"apple\", \"banana\", \"cherry\"}\n",
    "\n",
    "IT = {\"apple\", \"microsoft\", \"google\"}\n",
    "\n",
    "\n",
    "z = fruits.symmetric_difference(IT)\n",
    "\n",
    "print(z)"
   ]
  },
  {
   "cell_type": "code",
   "execution_count": null,
   "id": "abf97677",
   "metadata": {},
   "outputs": [],
   "source": []
  },
  {
   "cell_type": "code",
   "execution_count": null,
   "id": "a73cc3cf",
   "metadata": {},
   "outputs": [],
   "source": []
  },
  {
   "cell_type": "code",
   "execution_count": null,
   "id": "61136628",
   "metadata": {},
   "outputs": [],
   "source": []
  }
 ],
 "metadata": {
  "kernelspec": {
   "display_name": "Python 3",
   "language": "python",
   "name": "python3"
  },
  "language_info": {
   "codemirror_mode": {
    "name": "ipython",
    "version": 3
   },
   "file_extension": ".py",
   "mimetype": "text/x-python",
   "name": "python",
   "nbconvert_exporter": "python",
   "pygments_lexer": "ipython3",
   "version": "3.8.8"
  }
 },
 "nbformat": 4,
 "nbformat_minor": 5
}
