{
 "cells": [
  {
   "cell_type": "code",
   "execution_count": 2,
   "id": "014216d3",
   "metadata": {},
   "outputs": [
    {
     "name": "stdout",
     "output_type": "stream",
     "text": [
      "{'brand': 'ford', 'model': 'mustang', 'year': 1964}\n"
     ]
    }
   ],
   "source": [
    "# dictionaries has a key value pair to store the data\n",
    "shelby = {\n",
    "    \"brand\": \"ford\",\n",
    "    \"model\": \"mustang\",\n",
    "    \"year\": 1964\n",
    "}\n",
    "\n",
    "\n",
    "print(shelby)"
   ]
  },
  {
   "cell_type": "code",
   "execution_count": 3,
   "id": "0e3ce185",
   "metadata": {},
   "outputs": [
    {
     "name": "stdout",
     "output_type": "stream",
     "text": [
      "ford\n"
     ]
    }
   ],
   "source": [
    "print(shelby[\"brand\"])"
   ]
  },
  {
   "cell_type": "code",
   "execution_count": 6,
   "id": "f902de08",
   "metadata": {},
   "outputs": [
    {
     "name": "stdout",
     "output_type": "stream",
     "text": [
      "{'brand': 'ford', 'model': 'mustang gt', 'year': 1964}\n",
      "3\n"
     ]
    }
   ],
   "source": [
    "shelby1 = {\n",
    "    \"brand\": \"ford\",\n",
    "    \"model\": \"mustang\",\n",
    "    \"model\": \"mustang gt\",\n",
    "    \"year\": 1964\n",
    "}\n",
    "\n",
    "print(shelby1)\n",
    "print(len(shelby1))"
   ]
  },
  {
   "cell_type": "code",
   "execution_count": 13,
   "id": "c1428212",
   "metadata": {},
   "outputs": [
    {
     "name": "stdout",
     "output_type": "stream",
     "text": [
      "{'brand': 'ford', 'model': 'mustang', 'electric': False, 'colors': ['red', 'white', 'blue'], 'year': 1964}\n",
      "<class 'dict'>\n",
      "1964\n"
     ]
    }
   ],
   "source": [
    "shelby1 = {\n",
    "    \"brand\": \"ford\",\n",
    "    \"model\": \"mustang\",\n",
    "    \"electric\": False,\n",
    "    \"colors\": [\"red\", \"white\", \"blue\"],\n",
    "    \"year\": 1964\n",
    "}\n",
    "\n",
    "print(shelby1)\n",
    "print(type(shelby1))\n",
    "x = shelby1[\"year\"]\n",
    "print(x)"
   ]
  },
  {
   "cell_type": "code",
   "execution_count": 14,
   "id": "2f15be11",
   "metadata": {},
   "outputs": [
    {
     "name": "stdout",
     "output_type": "stream",
     "text": [
      "mustang\n"
     ]
    }
   ],
   "source": [
    "# get()\n",
    "\n",
    "y = shelby1.get(\"model\")\n",
    "print(y)"
   ]
  },
  {
   "cell_type": "code",
   "execution_count": 18,
   "id": "f38d2fbd",
   "metadata": {},
   "outputs": [
    {
     "name": "stdout",
     "output_type": "stream",
     "text": [
      "dict_keys(['brand', 'model', 'electric', 'colors', 'year'])\n",
      "dict_keys(['brand', 'model', 'electric', 'colors', 'year', 'price'])\n"
     ]
    }
   ],
   "source": [
    "# keys()\n",
    "shelby1 = {'brand': 'ford', 'model': 'mustang', 'electric': False, 'colors': ['red', 'white', 'blue'], 'year': 1964}\n",
    "\n",
    "k = shelby1.keys()\n",
    "\n",
    "print(k)\n",
    "\n",
    "shelby1[\"price\"] = \"2lacs\"\n",
    "\n",
    "print(k)"
   ]
  },
  {
   "cell_type": "code",
   "execution_count": 19,
   "id": "183fcbbd",
   "metadata": {},
   "outputs": [
    {
     "name": "stdout",
     "output_type": "stream",
     "text": [
      "dict_items([('brand', 'ford'), ('model', 'mustang'), ('electric', False), ('colors', ['red', 'white', 'blue']), ('year', 1964), ('price', '2lacs')])\n"
     ]
    }
   ],
   "source": [
    "c = shelby1.items()\n",
    "print(c)"
   ]
  },
  {
   "cell_type": "code",
   "execution_count": 20,
   "id": "3ba74fca",
   "metadata": {},
   "outputs": [
    {
     "name": "stdout",
     "output_type": "stream",
     "text": [
      "yes you own it \n"
     ]
    }
   ],
   "source": [
    "if \"model\" in shelby1: \n",
    "    print(\"yes you own it \")\n",
    "    "
   ]
  },
  {
   "cell_type": "code",
   "execution_count": 21,
   "id": "f96a5d12",
   "metadata": {},
   "outputs": [
    {
     "name": "stdout",
     "output_type": "stream",
     "text": [
      "{'brand': 'ford', 'model': 'mustang', 'electric': False, 'colors': ['red', 'white', 'blue'], 'year': 2021}\n"
     ]
    }
   ],
   "source": [
    "shelby1 = {\n",
    "    \"brand\": \"ford\",\n",
    "    \"model\": \"mustang\",\n",
    "    \"electric\": False,\n",
    "    \"colors\": [\"red\", \"white\", \"blue\"],\n",
    "    \"year\": 1964\n",
    "}\n",
    "\n",
    "\n",
    "shelby1[\"year\"] = 2021\n",
    "\n",
    "print(shelby1)\n",
    "\n"
   ]
  },
  {
   "cell_type": "code",
   "execution_count": 27,
   "id": "2b8d45bd",
   "metadata": {},
   "outputs": [
    {
     "name": "stdout",
     "output_type": "stream",
     "text": [
      "{'brand': 'ford', 'model': 'mustang', 'electric': False, 'colors': ['red', 'white', 'blue'], 'year': 2022}\n"
     ]
    }
   ],
   "source": [
    "shelby1 = {\n",
    "    \"brand\": \"ford\",\n",
    "    \"model\": \"mustang\",\n",
    "    \"electric\": False,\n",
    "    \"colors\": [\"red\", \"white\", \"blue\"],\n",
    "    \"year\": 1964\n",
    "}\n",
    "\n",
    "shelby1.update({\"year\": 2022})\n",
    "\n",
    "print(shelby1)"
   ]
  },
  {
   "cell_type": "code",
   "execution_count": 28,
   "id": "c4f62aae",
   "metadata": {},
   "outputs": [
    {
     "name": "stdout",
     "output_type": "stream",
     "text": [
      "{'brand': 'ford', 'model': 'mustang', 'electric': False, 'year': 2022}\n"
     ]
    }
   ],
   "source": [
    "shelby1.pop(\"colors\")\n",
    "\n",
    "print(shelby1)\n",
    "\n"
   ]
  },
  {
   "cell_type": "code",
   "execution_count": 29,
   "id": "f08b5f9e",
   "metadata": {},
   "outputs": [
    {
     "name": "stdout",
     "output_type": "stream",
     "text": [
      "{'brand': 'ford', 'model': 'mustang', 'electric': False}\n"
     ]
    }
   ],
   "source": [
    "shelby1.popitem()\n",
    "\n",
    "\n",
    "print(shelby1)"
   ]
  },
  {
   "cell_type": "code",
   "execution_count": 30,
   "id": "31bd5e96",
   "metadata": {},
   "outputs": [
    {
     "name": "stdout",
     "output_type": "stream",
     "text": [
      "{'model': 'mustang', 'electric': False}\n"
     ]
    }
   ],
   "source": [
    "del shelby1[\"brand\"]\n",
    "print(shelby1)\n"
   ]
  },
  {
   "cell_type": "code",
   "execution_count": 32,
   "id": "e11c129f",
   "metadata": {},
   "outputs": [
    {
     "ename": "NameError",
     "evalue": "name 'shelby1' is not defined",
     "output_type": "error",
     "traceback": [
      "\u001b[1;31m---------------------------------------------------------------------------\u001b[0m",
      "\u001b[1;31mNameError\u001b[0m                                 Traceback (most recent call last)",
      "\u001b[1;32m<ipython-input-32-addbdd263559>\u001b[0m in \u001b[0;36m<module>\u001b[1;34m\u001b[0m\n\u001b[1;32m----> 1\u001b[1;33m \u001b[1;32mdel\u001b[0m \u001b[0mshelby1\u001b[0m\u001b[1;33m\u001b[0m\u001b[1;33m\u001b[0m\u001b[0m\n\u001b[0m\u001b[0;32m      2\u001b[0m \u001b[1;33m\u001b[0m\u001b[0m\n\u001b[0;32m      3\u001b[0m \u001b[0mprint\u001b[0m\u001b[1;33m(\u001b[0m\u001b[0mshelby1\u001b[0m\u001b[1;33m)\u001b[0m\u001b[1;33m\u001b[0m\u001b[1;33m\u001b[0m\u001b[0m\n",
      "\u001b[1;31mNameError\u001b[0m: name 'shelby1' is not defined"
     ]
    }
   ],
   "source": [
    "del shelby1\n",
    "\n",
    "# print(shelby1) We deleted and hgence we would get the error "
   ]
  },
  {
   "cell_type": "code",
   "execution_count": 33,
   "id": "8060c6f8",
   "metadata": {},
   "outputs": [
    {
     "name": "stdout",
     "output_type": "stream",
     "text": [
      "{}\n"
     ]
    }
   ],
   "source": [
    "shelby1 = {\n",
    "    \"brand\": \"ford\",\n",
    "    \"model\": \"mustang\",\n",
    "    \"electric\": False,\n",
    "    \"colors\": [\"red\", \"white\", \"blue\"],\n",
    "    \"year\": 1964\n",
    "}\n",
    "\n",
    "shelby1.clear()\n",
    "print(shelby1)"
   ]
  },
  {
   "cell_type": "code",
   "execution_count": 34,
   "id": "0c7e85c7",
   "metadata": {},
   "outputs": [
    {
     "name": "stdout",
     "output_type": "stream",
     "text": [
      "brand\n",
      "model\n",
      "electric\n",
      "colors\n",
      "year\n"
     ]
    }
   ],
   "source": [
    "shelby1 = {\n",
    "    \"brand\": \"ford\",\n",
    "    \"model\": \"mustang\",\n",
    "    \"electric\": False,\n",
    "    \"colors\": [\"red\", \"white\", \"blue\"],\n",
    "    \"year\": 1964\n",
    "}\n",
    "\n",
    "\n",
    "for x in shelby1: \n",
    "    print(x)\n",
    "    \n"
   ]
  },
  {
   "cell_type": "code",
   "execution_count": 35,
   "id": "2880ad7e",
   "metadata": {},
   "outputs": [
    {
     "name": "stdout",
     "output_type": "stream",
     "text": [
      "ford\n",
      "mustang\n",
      "False\n",
      "['red', 'white', 'blue']\n",
      "1964\n"
     ]
    }
   ],
   "source": [
    "\n",
    "for x in shelby1.values(): \n",
    "    print(x)"
   ]
  },
  {
   "cell_type": "code",
   "execution_count": 36,
   "id": "9fde8bfb",
   "metadata": {},
   "outputs": [
    {
     "name": "stdout",
     "output_type": "stream",
     "text": [
      "brand\n",
      "model\n",
      "electric\n",
      "colors\n",
      "year\n"
     ]
    }
   ],
   "source": [
    "for x in shelby1.keys(): \n",
    "    print(x)"
   ]
  },
  {
   "cell_type": "code",
   "execution_count": 38,
   "id": "fd5bea12",
   "metadata": {},
   "outputs": [
    {
     "name": "stdout",
     "output_type": "stream",
     "text": [
      "{'brand': 'ford', 'model': 'mustang', 'electric': False, 'colors': ['red', 'white', 'blue'], 'year': 1964}\n"
     ]
    }
   ],
   "source": [
    "shelby1 = {\n",
    "    \"brand\": \"ford\",\n",
    "    \"model\": \"mustang\",\n",
    "    \"electric\": False,\n",
    "    \"colors\": [\"red\", \"white\", \"blue\"],\n",
    "    \"year\": 1964\n",
    "}\n",
    "\n",
    "shelby2 = shelby1.copy()\n",
    "\n",
    "print(shelby2)"
   ]
  },
  {
   "cell_type": "code",
   "execution_count": 44,
   "id": "76a75301",
   "metadata": {},
   "outputs": [
    {
     "name": "stdout",
     "output_type": "stream",
     "text": [
      "{'shelby1': {'brand': 'ford', 'model': 'mustang', 'electric': False, 'colors': ['red', 'white', 'blue'], 'year': 1964}, 'shelby2': {'brand': 'ford', 'model': 'mustang', 'electric': False, 'colors': ['red', 'green', 'blue'], 'year': 2020}, 'shelby3': {'brand': 'ford', 'model': 'mustang', 'electric': False, 'colors': ['red', 'black', 'blue'], 'year': 2021}}\n"
     ]
    }
   ],
   "source": [
    "shelby1 = {\n",
    "    \"brand\": \"ford\",\n",
    "    \"model\": \"mustang\",\n",
    "    \"electric\": False,\n",
    "    \"colors\": [\"red\", \"white\", \"blue\"],\n",
    "    \"year\": 1964\n",
    "}\n",
    "\n",
    "# print(shelby1)\n",
    "\n",
    "shelby2 = {\n",
    "    \"brand\": \"ford\",\n",
    "    \"model\": \"mustang\",\n",
    "    \"electric\": False,\n",
    "    \"colors\": [\"red\", \"green\", \"blue\"],\n",
    "    \"year\": 2020\n",
    "}\n",
    "\n",
    "# print(shelby2)\n",
    "    \n",
    "shelby3 = {\n",
    "    \"brand\": \"ford\",\n",
    "    \"model\": \"mustang\",\n",
    "    \"electric\": False,\n",
    "    \"colors\": [\"red\", \"black\", \"blue\"],\n",
    "    \"year\": 2021\n",
    "}\n",
    "\n",
    "# print(shelby3)  \n",
    "    \n",
    "    \n",
    "\n",
    "ford_family = {\n",
    "    \"shelby1\" : shelby1,\n",
    "    \"shelby2\" : shelby2,\n",
    "    \"shelby3\" : shelby3\n",
    "}\n",
    "    \n",
    "\n",
    "    \n",
    "print(ford_family)"
   ]
  },
  {
   "cell_type": "code",
   "execution_count": null,
   "id": "35647fc7",
   "metadata": {},
   "outputs": [],
   "source": []
  },
  {
   "cell_type": "code",
   "execution_count": null,
   "id": "1170c624",
   "metadata": {},
   "outputs": [],
   "source": []
  }
 ],
 "metadata": {
  "kernelspec": {
   "display_name": "Python 3",
   "language": "python",
   "name": "python3"
  },
  "language_info": {
   "codemirror_mode": {
    "name": "ipython",
    "version": 3
   },
   "file_extension": ".py",
   "mimetype": "text/x-python",
   "name": "python",
   "nbconvert_exporter": "python",
   "pygments_lexer": "ipython3",
   "version": "3.8.8"
  }
 },
 "nbformat": 4,
 "nbformat_minor": 5
}
