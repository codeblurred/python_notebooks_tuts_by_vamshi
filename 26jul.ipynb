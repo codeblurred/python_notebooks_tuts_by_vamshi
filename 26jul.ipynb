{
 "cells": [
  {
   "cell_type": "code",
   "execution_count": 51,
   "source": [
    "print(\"Guido van rossum\")\r\n",
    "print('hey there ! welcome to the python session')\r\n",
    "print('pagani')\r\n",
    "print('tesla')\r\n",
    "print(\"g-wagon\")\r\n",
    "print(\"we had an introduction class 21st July  and python installtion class on 23 July \")"
   ],
   "outputs": [
    {
     "output_type": "stream",
     "name": "stdout",
     "text": [
      "Guido van rossum\n",
      "hey there ! welcome to the python session\n",
      "pagani\n",
      "tesla\n",
      "g-wagon\n"
     ]
    }
   ],
   "metadata": {}
  },
  {
   "cell_type": "code",
   "execution_count": 52,
   "source": [
    "if 50 > 2:\r\n",
    "    print(\"50 is greater than 2\")\r\n",
    "    "
   ],
   "outputs": [
    {
     "output_type": "stream",
     "name": "stdout",
     "text": [
      "50 is greater than 2\n"
     ]
    }
   ],
   "metadata": {}
  },
  {
   "cell_type": "code",
   "execution_count": 53,
   "source": [
    "if -50 > 2:\r\n",
    "    print(\"50 is greater than 2\")"
   ],
   "outputs": [],
   "metadata": {}
  },
  {
   "cell_type": "code",
   "execution_count": 54,
   "source": [
    "12+365\r\n"
   ],
   "outputs": [
    {
     "output_type": "execute_result",
     "data": {
      "text/plain": [
       "377"
      ]
     },
     "metadata": {},
     "execution_count": 54
    }
   ],
   "metadata": {}
  },
  {
   "cell_type": "code",
   "execution_count": 55,
   "source": [
    "100-55"
   ],
   "outputs": [
    {
     "output_type": "execute_result",
     "data": {
      "text/plain": [
       "45"
      ]
     },
     "metadata": {},
     "execution_count": 55
    }
   ],
   "metadata": {}
  },
  {
   "cell_type": "code",
   "execution_count": 56,
   "source": [
    "5"
   ],
   "outputs": [
    {
     "output_type": "execute_result",
     "data": {
      "text/plain": [
       "5"
      ]
     },
     "metadata": {},
     "execution_count": 56
    }
   ],
   "metadata": {}
  },
  {
   "cell_type": "code",
   "execution_count": 57,
   "source": [
    "a = 5 \r\n",
    "print(a)\r\n",
    "a = 6\r\n",
    "print(a)\r\n",
    "print(\"a\")\r\n",
    "print(\"sai vijay\")\r\n",
    "print(type(a))\r\n",
    "#print(sai vijay)  \r\n",
    "# \r\n",
    "# #remove the # sign and run the code to view the error \r\n"
   ],
   "outputs": [
    {
     "output_type": "stream",
     "name": "stdout",
     "text": [
      "5\n",
      "6\n",
      "a\n",
      "sai vijay\n",
      "<class 'int'>\n"
     ]
    }
   ],
   "metadata": {}
  },
  {
   "cell_type": "code",
   "execution_count": 58,
   "source": [
    "a = \"1\"\r\n",
    "print(type(a))\r\n",
    "\r\n",
    "b = 2\r\n",
    "print(type(b))\r\n",
    "\r\n",
    "c = 3\r\n",
    "\r\n",
    "#sum = a + b\r\n",
    "sum1 = b + c\r\n",
    "print(sum1)"
   ],
   "outputs": [
    {
     "output_type": "stream",
     "name": "stdout",
     "text": [
      "<class 'str'>\n",
      "<class 'int'>\n",
      "5\n"
     ]
    }
   ],
   "metadata": {}
  },
  {
   "cell_type": "code",
   "execution_count": 59,
   "source": [
    "s = \"sai\"\r\n",
    "v = \"vijay\"\r\n",
    "\r\n",
    "print (s,v)\r\n",
    "print(type(s))\r\n",
    "print(type(v))\r\n",
    "\r\n",
    "add = s + v\r\n",
    "print(add)"
   ],
   "outputs": [
    {
     "output_type": "stream",
     "name": "stdout",
     "text": [
      "sai vijay\n",
      "<class 'str'>\n",
      "<class 'str'>\n",
      "saivijay\n"
     ]
    }
   ],
   "metadata": {}
  },
  {
   "cell_type": "code",
   "execution_count": 60,
   "source": [
    "a = 20.8\r\n",
    "print(a)\r\n",
    "print(type(a))\r\n",
    "\r\n",
    "b = 67\r\n",
    "print(b)\r\n",
    "print(type(b))\r\n",
    "\r\n",
    "c = a + b\r\n",
    "print(c)\r\n",
    "print(type(c))"
   ],
   "outputs": [
    {
     "output_type": "stream",
     "name": "stdout",
     "text": [
      "20.8\n",
      "<class 'float'>\n",
      "67\n",
      "<class 'int'>\n",
      "87.8\n",
      "<class 'float'>\n"
     ]
    }
   ],
   "metadata": {}
  },
  {
   "cell_type": "code",
   "execution_count": 61,
   "source": [
    "a = 23\r\n",
    "b = \"sai vijay\"\r\n",
    "\r\n",
    "print(a,b)\r\n",
    "print(type(a),type(b))"
   ],
   "outputs": [
    {
     "output_type": "stream",
     "name": "stdout",
     "text": [
      "23 sai vijay\n",
      "<class 'int'> <class 'str'>\n"
     ]
    }
   ],
   "metadata": {}
  },
  {
   "cell_type": "code",
   "execution_count": 62,
   "source": [
    "# naming conventions as accepted in python\r\n",
    "\r\n",
    "myname = \"maserati\"\r\n",
    "my_name_car = \"maserati\" # snake casing\r\n",
    "_my_name = \"maserati\"\r\n",
    "myName = \"maserati\"  # camel casing\r\n",
    "MYNAME = \"maserati\"\r\n",
    "myname21 = \"maserati\"\r\n",
    "MyName = \"maserati\" # pascal casing \r\n",
    "\r\n",
    "#print(myname,my_name,_my_name)\r\n",
    "#print(myName,MYNAME,myname21)\r\n",
    "\r\n",
    "\r\n",
    "my21name = \"maserati\"\r\n",
    "print(my21name)\r\n",
    "\r\n",
    "\r\n",
    "#21myname = \"maserati\"\r\n",
    "# print(21myname)  \r\n",
    "#my name = \"maserati\"\r\n",
    "#print(my name)\r\n",
    "\r\n",
    "#my-name = \"maserati\"\r\n",
    "#print(my-name)\r\n",
    "\r\n",
    "# uncomment the above to run and check the error \r\n",
    "\r\n"
   ],
   "outputs": [
    {
     "output_type": "stream",
     "name": "stdout",
     "text": [
      "maserati\n"
     ]
    }
   ],
   "metadata": {}
  },
  {
   "cell_type": "code",
   "execution_count": 63,
   "source": [
    "a, b, c, d, e = \"merc\", \"volvo\", \"shelby\", \"pagani\", \"minicooper\"\r\n",
    "print(a, b, c, d, e)\r\n"
   ],
   "outputs": [
    {
     "output_type": "stream",
     "name": "stdout",
     "text": [
      "merc volvo shelby pagani minicooper\n"
     ]
    }
   ],
   "metadata": {}
  },
  {
   "cell_type": "code",
   "execution_count": 64,
   "source": [
    "a,b,c,d,e = \"merc\",\"volvo\",\"shelby\",\"pagani\",\"minicooper\"\\\r\n",
    "    \r\n",
    "print(a,b,c,d,e)"
   ],
   "outputs": [
    {
     "output_type": "stream",
     "name": "stdout",
     "text": [
      "merc volvo shelby pagani minicooper\n"
     ]
    }
   ],
   "metadata": {}
  },
  {
   "cell_type": "code",
   "execution_count": 65,
   "source": [
    "x = y = z = \"bugati veron\"\r\n",
    "\r\n",
    "print(x)\r\n",
    "print(type(x))\r\n",
    "print(y)\r\n",
    "print(type(y))\r\n",
    "print(z)\r\n",
    "print(type(z))"
   ],
   "outputs": [
    {
     "output_type": "stream",
     "name": "stdout",
     "text": [
      "bugati veron\n",
      "<class 'str'>\n",
      "bugati veron\n",
      "<class 'str'>\n",
      "bugati veron\n",
      "<class 'str'>\n"
     ]
    }
   ],
   "metadata": {}
  },
  {
   "cell_type": "code",
   "execution_count": 66,
   "source": [
    "cars = [\"nano\", \"zen\", \"indica\", \"indigo\", \"wagonr\", \"santro\"]\r\n",
    "\r\n",
    "a, b, c, d, e, f = cars \r\n",
    "\r\n",
    "print(a, b, c, d, e, f)"
   ],
   "outputs": [
    {
     "output_type": "stream",
     "name": "stdout",
     "text": [
      "nano zen indica indigo wagonr santro\n"
     ]
    }
   ],
   "metadata": {}
  },
  {
   "cell_type": "code",
   "execution_count": 67,
   "source": [
    "x = \"G-wagon\"\r\n",
    "print(\"mercedes is the proprietor for \" +x)\r\n",
    "\r\n",
    "y = \"mercedes\"\r\n",
    "\r\n",
    "z = \"sai vijay\"\r\n",
    "\r\n",
    "print(z+ \" owns a franchise of \" +y + \" he drives \" +x)"
   ],
   "outputs": [
    {
     "output_type": "stream",
     "name": "stdout",
     "text": [
      "mercedes is the proprietor for G-wagon\n",
      "sai vijay owns a franchise of mercedes he drives G-wagon\n"
     ]
    }
   ],
   "metadata": {}
  },
  {
   "cell_type": "code",
   "execution_count": 68,
   "source": [
    "t = \"25\"\r\n",
    "v = 20 \r\n",
    "\r\n",
    "s = \"sai vijay \"\r\n",
    "\r\n",
    "#h = t + v \r\n",
    "#print(h) # we cannot add string to the integer / decimal(float)\r\n",
    "\r\n",
    "n = t + s\r\n",
    "print(n)\r\n",
    "\r\n"
   ],
   "outputs": [
    {
     "output_type": "stream",
     "name": "stdout",
     "text": [
      "25sai vijay \n"
     ]
    }
   ],
   "metadata": {}
  },
  {
   "cell_type": "code",
   "execution_count": 70,
   "source": [
    "print(\"print-func,\\ntype of variable,\\naccepted conventions of variables,\\nintegers,\\nfloat,\\nstrings \")"
   ],
   "outputs": [
    {
     "output_type": "stream",
     "name": "stdout",
     "text": [
      "print-func,\n",
      "type of variable,\n",
      "accepted conventions of variables,\n",
      "integers,\n",
      "float,\n",
      "strings \n"
     ]
    }
   ],
   "metadata": {}
  }
 ],
 "metadata": {
  "orig_nbformat": 4,
  "language_info": {
   "name": "python",
   "version": "3.8.8",
   "mimetype": "text/x-python",
   "codemirror_mode": {
    "name": "ipython",
    "version": 3
   },
   "pygments_lexer": "ipython3",
   "nbconvert_exporter": "python",
   "file_extension": ".py"
  },
  "kernelspec": {
   "name": "python3",
   "display_name": "Python 3.8.8 64-bit ('base': conda)"
  },
  "interpreter": {
   "hash": "35578e20fa6b6d28d2a4b1041a3cbbe9ce5d6b87d7a94be3e6657d6c7e60ca36"
  }
 },
 "nbformat": 4,
 "nbformat_minor": 2
}