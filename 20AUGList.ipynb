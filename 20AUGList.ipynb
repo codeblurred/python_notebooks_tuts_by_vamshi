{
 "cells": [
  {
   "cell_type": "code",
   "execution_count": 1,
   "id": "ec0457fb",
   "metadata": {},
   "outputs": [
    {
     "name": "stdout",
     "output_type": "stream",
     "text": [
      "['goair', 'gwagon', 'mazda', 'minicooper', 'shelby', 'spicejet', 'supra', 'trackhawk']\n",
      "[20, 23, 65, 75, 100, 309, 567]\n",
      "['trackhawk', 'supra', 'spicejet', 'shelby', 'minicooper', 'mazda', 'gwagon', 'goair']\n"
     ]
    }
   ],
   "source": [
    "# sorting\n",
    "\n",
    "\n",
    "richie =  ['mazda', 'gwagon', 'shelby', 'trackhawk', 'minicooper', 'supra', 'goair', 'spicejet']\n",
    "richie.sort()\n",
    "print(richie)\n",
    "\n",
    "numb = [100,20,309,567,65,75,23]\n",
    "numb.sort()\n",
    "print(numb)\n",
    "\n",
    "# Descending\n",
    "richie =  ['mazda', 'gwagon', 'shelby', 'trackhawk', 'minicooper', 'supra', 'goair', 'spicejet']\n",
    "richie.sort(reverse = True)\n",
    "print(richie)\n",
    "\n",
    "\n",
    "\n"
   ]
  },
  {
   "cell_type": "code",
   "execution_count": 3,
   "id": "b49e0e92",
   "metadata": {},
   "outputs": [
    {
     "name": "stdout",
     "output_type": "stream",
     "text": [
      "[65, 75, 23, 20, 100, 309, 567]\n"
     ]
    }
   ],
   "source": [
    "def myfunc(n): \n",
    "    return abs(n - 50)\n",
    "    \n",
    "numb = [100,20,309,567,65,75,23]\n",
    "\n",
    "numb.sort(key = myfunc)\n",
    "print(numb)"
   ]
  },
  {
   "cell_type": "code",
   "execution_count": null,
   "id": "5acef5f8",
   "metadata": {},
   "outputs": [],
   "source": []
  }
 ],
 "metadata": {
  "kernelspec": {
   "display_name": "Python 3",
   "language": "python",
   "name": "python3"
  },
  "language_info": {
   "codemirror_mode": {
    "name": "ipython",
    "version": 3
   },
   "file_extension": ".py",
   "mimetype": "text/x-python",
   "name": "python",
   "nbconvert_exporter": "python",
   "pygments_lexer": "ipython3",
   "version": "3.8.8"
  }
 },
 "nbformat": 4,
 "nbformat_minor": 5
}
