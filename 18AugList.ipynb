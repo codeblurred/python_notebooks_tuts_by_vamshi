{
 "cells": [
  {
   "cell_type": "code",
   "execution_count": 38,
   "id": "90d45f45",
   "metadata": {},
   "outputs": [
    {
     "name": "stdout",
     "output_type": "stream",
     "text": [
      "['camaro', 'gwagon', 'mazda']\n"
     ]
    }
   ],
   "source": [
    "list1=[\"camaro\", \"gwagon\", \"mazda\"]\n",
    "print(list1)"
   ]
  },
  {
   "cell_type": "code",
   "execution_count": 3,
   "id": "4c112352",
   "metadata": {},
   "outputs": [
    {
     "name": "stdout",
     "output_type": "stream",
     "text": [
      "camaro\n",
      "gwagon\n",
      "mazda\n"
     ]
    }
   ],
   "source": [
    "#    >>------->     positive indexing\n",
    "\n",
    "print(list1[0])\n",
    "print(list1[1])\n",
    "print(list1[2])"
   ]
  },
  {
   "cell_type": "code",
   "execution_count": 6,
   "id": "4152fff9",
   "metadata": {},
   "outputs": [
    {
     "name": "stdout",
     "output_type": "stream",
     "text": [
      "mazda\n",
      "gwagon\n",
      "camaro\n"
     ]
    }
   ],
   "source": [
    "print(list1[-1])\n",
    "print(list1[-2])\n",
    "print(list1[-3])\n",
    "\n",
    "#  negative indexing  <----------<< \n"
   ]
  },
  {
   "cell_type": "code",
   "execution_count": 9,
   "id": "8faaf753",
   "metadata": {},
   "outputs": [
    {
     "name": "stdout",
     "output_type": "stream",
     "text": [
      "range(0, 6)\n",
      "0\n",
      "1\n",
      "2\n",
      "3\n",
      "4\n",
      "5\n"
     ]
    }
   ],
   "source": [
    "w=range(0,6)\n",
    "print(w)\n",
    "\n",
    "for t in w:\n",
    "    print(t)"
   ]
  },
  {
   "cell_type": "code",
   "execution_count": 14,
   "id": "11c9b4d8",
   "metadata": {},
   "outputs": [
    {
     "name": "stdout",
     "output_type": "stream",
     "text": [
      "['camaro', 'gwagon', 'mazda', 'trackhawk', 'trackhawk']\n",
      "['camaro', 'gwagon', 'mazda', 'trackhawk', 'trackhawk']\n",
      "['gwagon', 'mazda']\n"
     ]
    }
   ],
   "source": [
    "# range of indexes \n",
    "\n",
    "print(list1)\n",
    "\n",
    "\n",
    "\n",
    "\n"
   ]
  },
  {
   "cell_type": "code",
   "execution_count": 31,
   "id": "7bd1eaaa",
   "metadata": {},
   "outputs": [
    {
     "name": "stdout",
     "output_type": "stream",
     "text": [
      "['camaro', 'gwagon', 'mazda', 'trackhawk', 'minicooper']\n",
      "['gwagon', 'mazda']\n",
      "['camaro', 'gwagon']\n",
      "['gwagon', 'mazda', 'trackhawk', 'minicooper']\n",
      "['gwagon', 'mazda', 'trackhawk']\n"
     ]
    }
   ],
   "source": [
    "# Range of item values\n",
    "\n",
    "list1= ['camaro', 'gwagon', 'mazda', 'trackhawk', 'minicooper']\n",
    "print(list1)\n",
    "print(list1[1:3])\n",
    "print(list1[0:2])\n",
    "print(list1[1:])\n",
    "print(list1[-4:-1])"
   ]
  },
  {
   "cell_type": "code",
   "execution_count": 35,
   "id": "9fdb8224",
   "metadata": {},
   "outputs": [
    {
     "name": "stdout",
     "output_type": "stream",
     "text": [
      "yes, minicooper exists\n"
     ]
    }
   ],
   "source": [
    "if \"minicooper\" in list1: \n",
    "    print(\"yes, minicooper exists\")"
   ]
  },
  {
   "cell_type": "code",
   "execution_count": 54,
   "id": "5eccf37c",
   "metadata": {},
   "outputs": [
    {
     "name": "stdout",
     "output_type": "stream",
     "text": [
      "['camaro', 'gwagon', 'mazda', 'trackhawk', 'minicooper']\n",
      "['camaro', 'gwagon', 'dodge', 'trackhawk', 'minicooper']\n"
     ]
    }
   ],
   "source": [
    "# change the item value \n",
    "list1= ['camaro', 'gwagon', 'mazda', 'trackhawk', 'minicooper']\n",
    "print(list1)\n",
    "list1[2]=\"dodge\"\n",
    "print(list1)\n"
   ]
  },
  {
   "cell_type": "code",
   "execution_count": 55,
   "id": "b996b87b",
   "metadata": {},
   "outputs": [
    {
     "name": "stdout",
     "output_type": "stream",
     "text": [
      "['camaro', 'urus', 'durango', 'trackhawk', 'minicooper']\n"
     ]
    }
   ],
   "source": [
    "# # Change the range of item values \n",
    "list1[1:3] = [\"urus\", \"durango\"]\n",
    "print(list1)"
   ]
  },
  {
   "cell_type": "code",
   "execution_count": 56,
   "id": "5e82f1f0",
   "metadata": {},
   "outputs": [
    {
     "name": "stdout",
     "output_type": "stream",
     "text": [
      "['camaro', 'mazda', 'shelby', 'durango', 'trackhawk', 'minicooper']\n"
     ]
    }
   ],
   "source": [
    "list1[1:2] = [\"mazda\", \"shelby\"]\n",
    "print(list1)"
   ]
  },
  {
   "cell_type": "code",
   "execution_count": 57,
   "id": "4d7ad699",
   "metadata": {},
   "outputs": [
    {
     "name": "stdout",
     "output_type": "stream",
     "text": [
      "['camaro', 'mazda', 'gwagon', 'shelby', 'durango', 'trackhawk', 'minicooper']\n"
     ]
    }
   ],
   "source": [
    "list1.insert(2, \"gwagon\")\n",
    "print(list1)\n"
   ]
  },
  {
   "cell_type": "code",
   "execution_count": 66,
   "id": "7bfc2035",
   "metadata": {},
   "outputs": [
    {
     "name": "stdout",
     "output_type": "stream",
     "text": [
      "['camaro', 'mazda', 'gwagon', 'shelby', 'durango', 'trackhawk', 'minicooper', 'supra', 'supra']\n",
      "['camaro', 'mazda', 'gwagon', 'shelby', 'durango', 'trackhawk', 'minicooper', 'supra']\n"
     ]
    }
   ],
   "source": [
    "# append\n",
    "\n",
    "list1.append(\"supra\")\n",
    "print(list1)\n",
    "\n",
    "list1 = ['camaro', 'mazda', 'gwagon', 'shelby', 'durango', 'trackhawk', 'minicooper', 'supra']\n",
    "print(list1)"
   ]
  },
  {
   "cell_type": "code",
   "execution_count": 74,
   "id": "50b91f3c",
   "metadata": {},
   "outputs": [
    {
     "name": "stdout",
     "output_type": "stream",
     "text": [
      "['camaro', 'mazda', 'gwagon', 'shelby', 'durango', 'trackhawk', 'minicooper', 'supra']\n",
      "['diavel', 'scrambler', 'daytona', 'husqvarna', 'benelli600i']\n",
      "('goair', 'spicejet')\n"
     ]
    }
   ],
   "source": [
    "list1 = ['camaro', 'mazda', 'gwagon', 'shelby', 'durango', 'trackhawk', 'minicooper', 'supra']\n",
    "print(list1)\n",
    "list2 = [\"diavel\", \"scrambler\", \"daytona\", \"husqvarna\", \"benelli600i\"]\n",
    "print(list2)\n",
    "\n",
    "flighttuple = (\"goair\", \"spicejet\")\n",
    "print(flighttuple)"
   ]
  },
  {
   "cell_type": "code",
   "execution_count": 72,
   "id": "dacf90d1",
   "metadata": {},
   "outputs": [
    {
     "name": "stdout",
     "output_type": "stream",
     "text": [
      "['camaro', 'mazda', 'gwagon', 'shelby', 'durango', 'trackhawk', 'minicooper', 'supra', 'diavel', 'scrambler', 'daytona', 'husqvarna', 'benelli600i']\n"
     ]
    }
   ],
   "source": [
    "# list1.extend(list2)\n",
    "# mine = list1\n",
    "\n",
    "# print(mine)\n",
    "\n"
   ]
  },
  {
   "cell_type": "code",
   "execution_count": 77,
   "id": "ffc19984",
   "metadata": {},
   "outputs": [
    {
     "name": "stdout",
     "output_type": "stream",
     "text": [
      "['camaro', 'mazda', 'gwagon', 'shelby', 'durango', 'trackhawk', 'minicooper', 'supra', 'goair', 'spicejet']\n",
      "['camaro', 'mazda', 'gwagon', 'shelby', 'durango', 'trackhawk', 'minicooper', 'supra', 'goair', 'spicejet']\n"
     ]
    }
   ],
   "source": [
    "# list1.extend(flighttuple)\n",
    "print(list1)\n",
    "mine2 = list1\n",
    "\n",
    "print(mine2)"
   ]
  },
  {
   "cell_type": "code",
   "execution_count": 78,
   "id": "f0056665",
   "metadata": {},
   "outputs": [
    {
     "name": "stdout",
     "output_type": "stream",
     "text": [
      "['mazda', 'gwagon', 'shelby', 'durango', 'trackhawk', 'minicooper', 'supra', 'goair', 'spicejet']\n"
     ]
    }
   ],
   "source": [
    "mine2.remove(\"camaro\")\n",
    "print(mine2)"
   ]
  },
  {
   "cell_type": "code",
   "execution_count": 79,
   "id": "78ddd594",
   "metadata": {},
   "outputs": [
    {
     "name": "stdout",
     "output_type": "stream",
     "text": [
      "['mazda', 'gwagon', 'shelby', 'trackhawk', 'minicooper', 'supra', 'goair', 'spicejet']\n"
     ]
    }
   ],
   "source": [
    "mine2.pop(3)\n",
    "print(mine2)\n"
   ]
  },
  {
   "cell_type": "code",
   "execution_count": 86,
   "id": "61e5ac5f",
   "metadata": {},
   "outputs": [
    {
     "name": "stdout",
     "output_type": "stream",
     "text": [
      "['gwagon', 'shelby', 'trackhawk', 'minicooper', 'supra', 'goair', 'spicejet']\n"
     ]
    }
   ],
   "source": [
    "mine3 = ['mazda', 'gwagon', 'shelby', 'trackhawk', 'minicooper', 'supra', 'goair', 'spicejet']\n",
    "\n",
    "del mine3[0]\n",
    "print(mine3)\n",
    "\n",
    "mine4 = mine3 \n"
   ]
  },
  {
   "cell_type": "code",
   "execution_count": 85,
   "id": "6dae6c15",
   "metadata": {},
   "outputs": [],
   "source": [
    "del mine3\n",
    "# print(mine3)"
   ]
  },
  {
   "cell_type": "code",
   "execution_count": 87,
   "id": "8d3a9680",
   "metadata": {},
   "outputs": [
    {
     "name": "stdout",
     "output_type": "stream",
     "text": [
      "['gwagon', 'shelby', 'trackhawk', 'minicooper', 'supra', 'goair', 'spicejet']\n",
      "[]\n"
     ]
    }
   ],
   "source": [
    "print(mine4)\n",
    "\n",
    "mine4.clear()\n",
    "print(mine4)"
   ]
  },
  {
   "cell_type": "code",
   "execution_count": 90,
   "id": "ff95d2f1",
   "metadata": {},
   "outputs": [
    {
     "name": "stdout",
     "output_type": "stream",
     "text": [
      "8\n",
      "mazda\n",
      "gwagon\n",
      "shelby\n",
      "trackhawk\n",
      "minicooper\n",
      "supra\n",
      "goair\n",
      "spicejet\n"
     ]
    }
   ],
   "source": [
    "# loop through a list \n",
    "\n",
    "richie =  ['mazda', 'gwagon', 'shelby', 'trackhawk', 'minicooper', 'supra', 'goair', 'spicejet']\n",
    "\n",
    "print(len(richie))\n",
    "\n",
    "for x in richie:\n",
    "    print(x)\n"
   ]
  },
  {
   "cell_type": "code",
   "execution_count": 89,
   "id": "c26a58b2",
   "metadata": {},
   "outputs": [
    {
     "name": "stdout",
     "output_type": "stream",
     "text": [
      "mazda\n",
      "gwagon\n",
      "shelby\n",
      "trackhawk\n",
      "minicooper\n",
      "supra\n",
      "goair\n",
      "spicejet\n"
     ]
    }
   ],
   "source": [
    "# loop through the index numbers \n",
    "\n",
    "for x in range(len(richie)):\n",
    "    print(richie[x])\n",
    "\n"
   ]
  },
  {
   "cell_type": "code",
   "execution_count": 94,
   "id": "38ffded2",
   "metadata": {},
   "outputs": [
    {
     "name": "stdout",
     "output_type": "stream",
     "text": [
      "['mazda', 'gwagon', 'shelby', 'trackhawk', 'minicooper', 'supra', 'goair', 'spicejet']\n",
      "8\n",
      "mazda\n",
      "gwagon\n",
      "shelby\n",
      "trackhawk\n",
      "minicooper\n",
      "supra\n",
      "goair\n",
      "spicejet\n"
     ]
    }
   ],
   "source": [
    "print(richie)\n",
    "i = 0 \n",
    "\n",
    "print(len(richie))\n",
    "\n",
    "while i < len(richie):\n",
    "    print(richie[i])\n",
    "    i = i + 1"
   ]
  },
  {
   "cell_type": "code",
   "execution_count": 95,
   "id": "14f0a7d0",
   "metadata": {},
   "outputs": [
    {
     "name": "stdout",
     "output_type": "stream",
     "text": [
      "['mazda', 'gwagon', 'trackhawk', 'supra', 'goair']\n"
     ]
    }
   ],
   "source": [
    "# list comprehension\n",
    "richie =  ['mazda', 'gwagon', 'shelby', 'trackhawk', 'minicooper', 'supra', 'goair', 'spicejet']\n",
    "\n",
    "newlist = []\n",
    "\n",
    "for x in richie: \n",
    "    if \"a\" in x: \n",
    "        newlist.append(x)\n",
    "        \n",
    "\n",
    "print(newlist)\n"
   ]
  },
  {
   "cell_type": "code",
   "execution_count": 97,
   "id": "b67597bc",
   "metadata": {},
   "outputs": [
    {
     "name": "stdout",
     "output_type": "stream",
     "text": [
      "['gwagon', 'goair']\n"
     ]
    }
   ],
   "source": [
    "\n",
    "newlist2 = []\n",
    "\n",
    "for y in newlist:\n",
    "    if \"o\" in y:\n",
    "        newlist2.append(y)\n",
    "        \n",
    "print(newlist2)\n"
   ]
  },
  {
   "cell_type": "code",
   "execution_count": 99,
   "id": "68430f47",
   "metadata": {},
   "outputs": [
    {
     "name": "stdout",
     "output_type": "stream",
     "text": [
      "['goair', 'emirates', 'spicejet', 'Indigo']\n"
     ]
    }
   ],
   "source": [
    "# Looping using the list comprehension \n",
    "\n",
    "flights = ['goair', 'emirates', 'spicejet', 'Indigo']\n",
    "\n",
    "newflight = [x for x in flights ]\n",
    "\n",
    "print(newflight)"
   ]
  },
  {
   "cell_type": "code",
   "execution_count": 102,
   "id": "2bfa282a",
   "metadata": {},
   "outputs": [
    {
     "name": "stdout",
     "output_type": "stream",
     "text": [
      "['goair', 'emirates', 'spicejet', 'Indigo']\n",
      "['goair', 'emirates']\n"
     ]
    }
   ],
   "source": [
    "print(newflight)\n",
    "\n",
    "newflight2 = [y for y in newflight if \"a\" in y]\n",
    "\n",
    "\n",
    "print(newflight2)"
   ]
  },
  {
   "cell_type": "code",
   "execution_count": 103,
   "id": "1f6ddf86",
   "metadata": {},
   "outputs": [
    {
     "name": "stdout",
     "output_type": "stream",
     "text": [
      "['goair', 'emirates', 'spicejet']\n"
     ]
    }
   ],
   "source": [
    "fleet = [z for z in newflight if z != \"Indigo\"]\n",
    "\n",
    "# for emirates in newflight if emirates != Indigo , then print Emirates \n",
    "\n",
    "\n",
    "print(fleet)"
   ]
  },
  {
   "cell_type": "code",
   "execution_count": 104,
   "id": "9242389e",
   "metadata": {},
   "outputs": [
    {
     "name": "stdout",
     "output_type": "stream",
     "text": [
      "0\n",
      "1\n",
      "2\n",
      "3\n",
      "4\n",
      "5\n",
      "6\n",
      "7\n",
      "8\n",
      "9\n"
     ]
    }
   ],
   "source": [
    "for x in range(10): \n",
    "    # range is 0,1,2,3...n-1\n",
    "    \n",
    "    print(x)"
   ]
  },
  {
   "cell_type": "code",
   "execution_count": 105,
   "id": "23cc0ec4",
   "metadata": {},
   "outputs": [
    {
     "name": "stdout",
     "output_type": "stream",
     "text": [
      "[0, 1, 2, 3, 4, 5, 6, 7, 8, 9]\n"
     ]
    }
   ],
   "source": [
    "goat = [x for x in range(10)]\n",
    "\n",
    "print(goat)"
   ]
  },
  {
   "cell_type": "code",
   "execution_count": null,
   "id": "987bf060",
   "metadata": {},
   "outputs": [],
   "source": []
  }
 ],
 "metadata": {
  "kernelspec": {
   "display_name": "Python 3",
   "language": "python",
   "name": "python3"
  },
  "language_info": {
   "codemirror_mode": {
    "name": "ipython",
    "version": 3
   },
   "file_extension": ".py",
   "mimetype": "text/x-python",
   "name": "python",
   "nbconvert_exporter": "python",
   "pygments_lexer": "ipython3",
   "version": "3.8.8"
  }
 },
 "nbformat": 4,
 "nbformat_minor": 5
}
